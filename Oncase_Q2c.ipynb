{
  "nbformat": 4,
  "nbformat_minor": 0,
  "metadata": {
    "colab": {
      "name": "Oncase_Q2c.ipynb",
      "provenance": [],
      "collapsed_sections": [
        "FL_H8DbT-NyZ",
        "E6GIkUPa-3JW"
      ],
      "include_colab_link": true
    },
    "kernelspec": {
      "display_name": "Python 3",
      "name": "python3"
    },
    "language_info": {
      "name": "python"
    }
  },
  "cells": [
    {
      "cell_type": "markdown",
      "metadata": {
        "id": "view-in-github",
        "colab_type": "text"
      },
      "source": [
        "<a href=\"https://colab.research.google.com/github/pedropvsn/Oncase/blob/main/Oncase_Q2c.ipynb\" target=\"_parent\"><img src=\"https://colab.research.google.com/assets/colab-badge.svg\" alt=\"Open In Colab\"/></a>"
      ]
    },
    {
      "cell_type": "code",
      "metadata": {
        "id": "qIbi4llPGu8n",
        "outputId": "c75c1948-988f-4f0c-f633-f5e90f2b6c20",
        "colab": {
          "base_uri": "https://localhost:8080/"
        }
      },
      "source": [
        "#Importando as bibliotecas que normalmente são utilizadas em ciencia de dados\n",
        "import statsmodels.api as sm\n",
        "import pandas as pd  \n",
        "import numpy as np  \n",
        "import matplotlib.pyplot as plt  \n",
        "import seaborn as sns\n",
        "\n",
        "from sklearn.model_selection import train_test_split \n",
        "from sklearn.linear_model import LinearRegression\n",
        "from sklearn.metrics import roc_auc_score\n",
        "from sklearn import metrics\n",
        "import warnings\n",
        "warnings.filterwarnings('ignore')\n",
        "%matplotlib inline"
      ],
      "execution_count": 1,
      "outputs": [
        {
          "output_type": "stream",
          "name": "stderr",
          "text": [
            "/usr/local/lib/python3.7/dist-packages/statsmodels/tools/_testing.py:19: FutureWarning: pandas.util.testing is deprecated. Use the functions in the public API at pandas.testing instead.\n",
            "  import pandas.util.testing as tm\n"
          ]
        }
      ]
    },
    {
      "cell_type": "markdown",
      "metadata": {
        "id": "5Pc2Emr3FFFc"
      },
      "source": [
        "# **BASES DE DADOS**"
      ]
    },
    {
      "cell_type": "code",
      "metadata": {
        "colab": {
          "base_uri": "https://localhost:8080/"
        },
        "id": "b1N8xOHlFEgV",
        "outputId": "e3f331ec-d00c-4637-ca87-a43165d89f0a"
      },
      "source": [
        "from google.colab import drive\n",
        "drive.mount('/content/drive')"
      ],
      "execution_count": 2,
      "outputs": [
        {
          "output_type": "stream",
          "name": "stdout",
          "text": [
            "Mounted at /content/drive\n"
          ]
        }
      ]
    },
    {
      "cell_type": "code",
      "metadata": {
        "colab": {
          "base_uri": "https://localhost:8080/",
          "height": 206
        },
        "id": "XncVVkC9FEcL",
        "outputId": "ef1670ef-2669-4c54-fc77-ba697d2f70a4"
      },
      "source": [
        "df_treino = pd.read_csv(\"/content/drive/My Drive/Colab/Oncase q2c/regression_train.csv\",  sep=',', decimal=\".\")\n",
        "\n",
        "df_treino.head(5)"
      ],
      "execution_count": 4,
      "outputs": [
        {
          "output_type": "execute_result",
          "data": {
            "text/html": [
              "\n",
              "  <div id=\"df-536d9e69-1364-43f4-86aa-5e2e119f1ed4\">\n",
              "    <div class=\"colab-df-container\">\n",
              "      <div>\n",
              "<style scoped>\n",
              "    .dataframe tbody tr th:only-of-type {\n",
              "        vertical-align: middle;\n",
              "    }\n",
              "\n",
              "    .dataframe tbody tr th {\n",
              "        vertical-align: top;\n",
              "    }\n",
              "\n",
              "    .dataframe thead th {\n",
              "        text-align: right;\n",
              "    }\n",
              "</style>\n",
              "<table border=\"1\" class=\"dataframe\">\n",
              "  <thead>\n",
              "    <tr style=\"text-align: right;\">\n",
              "      <th></th>\n",
              "      <th>target</th>\n",
              "      <th>X1</th>\n",
              "      <th>X2</th>\n",
              "      <th>X3</th>\n",
              "      <th>X4</th>\n",
              "      <th>X5</th>\n",
              "      <th>X6</th>\n",
              "      <th>X7</th>\n",
              "    </tr>\n",
              "  </thead>\n",
              "  <tbody>\n",
              "    <tr>\n",
              "      <th>0</th>\n",
              "      <td>NaN</td>\n",
              "      <td>-0.546168</td>\n",
              "      <td>NaN</td>\n",
              "      <td>47.063305</td>\n",
              "      <td>1.611370</td>\n",
              "      <td>-65.882137</td>\n",
              "      <td>0</td>\n",
              "      <td>-16.672865</td>\n",
              "    </tr>\n",
              "    <tr>\n",
              "      <th>1</th>\n",
              "      <td>47.735389</td>\n",
              "      <td>3.074317</td>\n",
              "      <td>-2.836000</td>\n",
              "      <td>49.396649</td>\n",
              "      <td>0.261998</td>\n",
              "      <td>-66.570716</td>\n",
              "      <td>0</td>\n",
              "      <td>-6.664599</td>\n",
              "    </tr>\n",
              "    <tr>\n",
              "      <th>2</th>\n",
              "      <td>NaN</td>\n",
              "      <td>-1.485531</td>\n",
              "      <td>-13.102537</td>\n",
              "      <td>42.367991</td>\n",
              "      <td>3.991558</td>\n",
              "      <td>-67.108014</td>\n",
              "      <td>8</td>\n",
              "      <td>-30.790962</td>\n",
              "    </tr>\n",
              "    <tr>\n",
              "      <th>3</th>\n",
              "      <td>908.202209</td>\n",
              "      <td>6.907396</td>\n",
              "      <td>-0.308967</td>\n",
              "      <td>57.228787</td>\n",
              "      <td>0.256771</td>\n",
              "      <td>-66.181266</td>\n",
              "      <td>5</td>\n",
              "      <td>-0.726072</td>\n",
              "    </tr>\n",
              "    <tr>\n",
              "      <th>4</th>\n",
              "      <td>1640.461863</td>\n",
              "      <td>1.916788</td>\n",
              "      <td>3.460290</td>\n",
              "      <td>51.703375</td>\n",
              "      <td>2.463790</td>\n",
              "      <td>-65.143663</td>\n",
              "      <td>5</td>\n",
              "      <td>8.131680</td>\n",
              "    </tr>\n",
              "  </tbody>\n",
              "</table>\n",
              "</div>\n",
              "      <button class=\"colab-df-convert\" onclick=\"convertToInteractive('df-536d9e69-1364-43f4-86aa-5e2e119f1ed4')\"\n",
              "              title=\"Convert this dataframe to an interactive table.\"\n",
              "              style=\"display:none;\">\n",
              "        \n",
              "  <svg xmlns=\"http://www.w3.org/2000/svg\" height=\"24px\"viewBox=\"0 0 24 24\"\n",
              "       width=\"24px\">\n",
              "    <path d=\"M0 0h24v24H0V0z\" fill=\"none\"/>\n",
              "    <path d=\"M18.56 5.44l.94 2.06.94-2.06 2.06-.94-2.06-.94-.94-2.06-.94 2.06-2.06.94zm-11 1L8.5 8.5l.94-2.06 2.06-.94-2.06-.94L8.5 2.5l-.94 2.06-2.06.94zm10 10l.94 2.06.94-2.06 2.06-.94-2.06-.94-.94-2.06-.94 2.06-2.06.94z\"/><path d=\"M17.41 7.96l-1.37-1.37c-.4-.4-.92-.59-1.43-.59-.52 0-1.04.2-1.43.59L10.3 9.45l-7.72 7.72c-.78.78-.78 2.05 0 2.83L4 21.41c.39.39.9.59 1.41.59.51 0 1.02-.2 1.41-.59l7.78-7.78 2.81-2.81c.8-.78.8-2.07 0-2.86zM5.41 20L4 18.59l7.72-7.72 1.47 1.35L5.41 20z\"/>\n",
              "  </svg>\n",
              "      </button>\n",
              "      \n",
              "  <style>\n",
              "    .colab-df-container {\n",
              "      display:flex;\n",
              "      flex-wrap:wrap;\n",
              "      gap: 12px;\n",
              "    }\n",
              "\n",
              "    .colab-df-convert {\n",
              "      background-color: #E8F0FE;\n",
              "      border: none;\n",
              "      border-radius: 50%;\n",
              "      cursor: pointer;\n",
              "      display: none;\n",
              "      fill: #1967D2;\n",
              "      height: 32px;\n",
              "      padding: 0 0 0 0;\n",
              "      width: 32px;\n",
              "    }\n",
              "\n",
              "    .colab-df-convert:hover {\n",
              "      background-color: #E2EBFA;\n",
              "      box-shadow: 0px 1px 2px rgba(60, 64, 67, 0.3), 0px 1px 3px 1px rgba(60, 64, 67, 0.15);\n",
              "      fill: #174EA6;\n",
              "    }\n",
              "\n",
              "    [theme=dark] .colab-df-convert {\n",
              "      background-color: #3B4455;\n",
              "      fill: #D2E3FC;\n",
              "    }\n",
              "\n",
              "    [theme=dark] .colab-df-convert:hover {\n",
              "      background-color: #434B5C;\n",
              "      box-shadow: 0px 1px 3px 1px rgba(0, 0, 0, 0.15);\n",
              "      filter: drop-shadow(0px 1px 2px rgba(0, 0, 0, 0.3));\n",
              "      fill: #FFFFFF;\n",
              "    }\n",
              "  </style>\n",
              "\n",
              "      <script>\n",
              "        const buttonEl =\n",
              "          document.querySelector('#df-536d9e69-1364-43f4-86aa-5e2e119f1ed4 button.colab-df-convert');\n",
              "        buttonEl.style.display =\n",
              "          google.colab.kernel.accessAllowed ? 'block' : 'none';\n",
              "\n",
              "        async function convertToInteractive(key) {\n",
              "          const element = document.querySelector('#df-536d9e69-1364-43f4-86aa-5e2e119f1ed4');\n",
              "          const dataTable =\n",
              "            await google.colab.kernel.invokeFunction('convertToInteractive',\n",
              "                                                     [key], {});\n",
              "          if (!dataTable) return;\n",
              "\n",
              "          const docLinkHtml = 'Like what you see? Visit the ' +\n",
              "            '<a target=\"_blank\" href=https://colab.research.google.com/notebooks/data_table.ipynb>data table notebook</a>'\n",
              "            + ' to learn more about interactive tables.';\n",
              "          element.innerHTML = '';\n",
              "          dataTable['output_type'] = 'display_data';\n",
              "          await google.colab.output.renderOutput(dataTable, element);\n",
              "          const docLink = document.createElement('div');\n",
              "          docLink.innerHTML = docLinkHtml;\n",
              "          element.appendChild(docLink);\n",
              "        }\n",
              "      </script>\n",
              "    </div>\n",
              "  </div>\n",
              "  "
            ],
            "text/plain": [
              "        target        X1         X2  ...         X5  X6         X7\n",
              "0          NaN -0.546168        NaN  ... -65.882137   0 -16.672865\n",
              "1    47.735389  3.074317  -2.836000  ... -66.570716   0  -6.664599\n",
              "2          NaN -1.485531 -13.102537  ... -67.108014   8 -30.790962\n",
              "3   908.202209  6.907396  -0.308967  ... -66.181266   5  -0.726072\n",
              "4  1640.461863  1.916788   3.460290  ... -65.143663   5   8.131680\n",
              "\n",
              "[5 rows x 8 columns]"
            ]
          },
          "metadata": {},
          "execution_count": 4
        }
      ]
    },
    {
      "cell_type": "code",
      "source": [
        "df_treino.shape"
      ],
      "metadata": {
        "colab": {
          "base_uri": "https://localhost:8080/"
        },
        "id": "MvbCMuQ_mJSR",
        "outputId": "ce785ae6-548e-432f-9510-6e3e8f9c6c05"
      },
      "execution_count": 5,
      "outputs": [
        {
          "output_type": "execute_result",
          "data": {
            "text/plain": [
              "(1042, 8)"
            ]
          },
          "metadata": {},
          "execution_count": 5
        }
      ]
    },
    {
      "cell_type": "code",
      "source": [
        "df_treino.isnull().sum() #quantidade de nulos por coluna"
      ],
      "metadata": {
        "colab": {
          "base_uri": "https://localhost:8080/"
        },
        "id": "hrhHTjF9jaQv",
        "outputId": "fc8d6627-d898-4855-8a40-46d6d163ceb9"
      },
      "execution_count": 6,
      "outputs": [
        {
          "output_type": "execute_result",
          "data": {
            "text/plain": [
              "target    327\n",
              "X1          0\n",
              "X2         11\n",
              "X3          0\n",
              "X4          0\n",
              "X5          0\n",
              "X6          0\n",
              "X7          0\n",
              "dtype: int64"
            ]
          },
          "metadata": {},
          "execution_count": 6
        }
      ]
    },
    {
      "cell_type": "markdown",
      "source": [
        "## Tratando valores nulos da base de treino"
      ],
      "metadata": {
        "id": "L9trDBBun3yr"
      }
    },
    {
      "cell_type": "code",
      "source": [
        "#  SUBSTITUIR OU EXCLUIR AS LINHAS QUE O TARGET ESTÁ COMO NaN, senão na célula de treinar o modelo dá erro. \n",
        "#como a base é pequena, melhor substituir\n",
        "\n",
        "# substituindo nulos pela média \n",
        "\n",
        "df_treino['target'].fillna(df_treino['target'].mean(), inplace=True)\n",
        "\n",
        "df_treino['X2'].fillna(df_treino['X2'].mean(), inplace=True)\n",
        "\n",
        "\n"
      ],
      "metadata": {
        "id": "dKgwNDD8hgcq"
      },
      "execution_count": 7,
      "outputs": []
    },
    {
      "cell_type": "code",
      "source": [
        "df_treino.isnull().sum() #quantidade de nulos por coluna"
      ],
      "metadata": {
        "colab": {
          "base_uri": "https://localhost:8080/"
        },
        "id": "F31UgtJmlV8x",
        "outputId": "3b612e5d-a542-472a-de08-c6a06861b4d7"
      },
      "execution_count": null,
      "outputs": [
        {
          "output_type": "execute_result",
          "data": {
            "text/plain": [
              "target    0\n",
              "X1        0\n",
              "X2        0\n",
              "X3        0\n",
              "X4        0\n",
              "X5        0\n",
              "X6        0\n",
              "X7        0\n",
              "dtype: int64"
            ]
          },
          "metadata": {},
          "execution_count": 13
        }
      ]
    },
    {
      "cell_type": "code",
      "source": [
        "df_teste = pd.read_csv(\"/content/drive/My Drive/Colab/Oncase q2c/regression_test.csv\",  sep=',', decimal=\".\")\n",
        "df_teste.head(5)"
      ],
      "metadata": {
        "colab": {
          "base_uri": "https://localhost:8080/",
          "height": 206
        },
        "id": "Tcp_ENLIhOmV",
        "outputId": "8ef23671-ee68-4a55-8a20-1374307306ab"
      },
      "execution_count": 9,
      "outputs": [
        {
          "output_type": "execute_result",
          "data": {
            "text/html": [
              "\n",
              "  <div id=\"df-85153a84-7785-4d59-b17d-ebe74784177e\">\n",
              "    <div class=\"colab-df-container\">\n",
              "      <div>\n",
              "<style scoped>\n",
              "    .dataframe tbody tr th:only-of-type {\n",
              "        vertical-align: middle;\n",
              "    }\n",
              "\n",
              "    .dataframe tbody tr th {\n",
              "        vertical-align: top;\n",
              "    }\n",
              "\n",
              "    .dataframe thead th {\n",
              "        text-align: right;\n",
              "    }\n",
              "</style>\n",
              "<table border=\"1\" class=\"dataframe\">\n",
              "  <thead>\n",
              "    <tr style=\"text-align: right;\">\n",
              "      <th></th>\n",
              "      <th>target</th>\n",
              "      <th>X1</th>\n",
              "      <th>X2</th>\n",
              "      <th>X3</th>\n",
              "      <th>X4</th>\n",
              "      <th>X5</th>\n",
              "      <th>X6</th>\n",
              "      <th>X7</th>\n",
              "    </tr>\n",
              "  </thead>\n",
              "  <tbody>\n",
              "    <tr>\n",
              "      <th>0</th>\n",
              "      <td>3.436244</td>\n",
              "      <td>0.210854</td>\n",
              "      <td>-2.451307</td>\n",
              "      <td>51.239996</td>\n",
              "      <td>4.641751</td>\n",
              "      <td>-67.874319</td>\n",
              "      <td>5</td>\n",
              "      <td>-5.760571</td>\n",
              "    </tr>\n",
              "    <tr>\n",
              "      <th>1</th>\n",
              "      <td>1525.839412</td>\n",
              "      <td>2.157483</td>\n",
              "      <td>4.337776</td>\n",
              "      <td>43.828794</td>\n",
              "      <td>8.070219</td>\n",
              "      <td>-68.405526</td>\n",
              "      <td>8</td>\n",
              "      <td>10.193773</td>\n",
              "    </tr>\n",
              "    <tr>\n",
              "      <th>2</th>\n",
              "      <td>455.600191</td>\n",
              "      <td>5.166359</td>\n",
              "      <td>-0.452615</td>\n",
              "      <td>43.931305</td>\n",
              "      <td>1.349625</td>\n",
              "      <td>-66.240021</td>\n",
              "      <td>0</td>\n",
              "      <td>-1.063645</td>\n",
              "    </tr>\n",
              "    <tr>\n",
              "      <th>3</th>\n",
              "      <td>0.619759</td>\n",
              "      <td>3.276641</td>\n",
              "      <td>-3.607201</td>\n",
              "      <td>50.631046</td>\n",
              "      <td>2.473542</td>\n",
              "      <td>-69.971690</td>\n",
              "      <td>8</td>\n",
              "      <td>-8.476921</td>\n",
              "    </tr>\n",
              "    <tr>\n",
              "      <th>4</th>\n",
              "      <td>10.996472</td>\n",
              "      <td>-1.867485</td>\n",
              "      <td>-2.408863</td>\n",
              "      <td>58.660224</td>\n",
              "      <td>2.826219</td>\n",
              "      <td>-53.647149</td>\n",
              "      <td>5</td>\n",
              "      <td>-5.660827</td>\n",
              "    </tr>\n",
              "  </tbody>\n",
              "</table>\n",
              "</div>\n",
              "      <button class=\"colab-df-convert\" onclick=\"convertToInteractive('df-85153a84-7785-4d59-b17d-ebe74784177e')\"\n",
              "              title=\"Convert this dataframe to an interactive table.\"\n",
              "              style=\"display:none;\">\n",
              "        \n",
              "  <svg xmlns=\"http://www.w3.org/2000/svg\" height=\"24px\"viewBox=\"0 0 24 24\"\n",
              "       width=\"24px\">\n",
              "    <path d=\"M0 0h24v24H0V0z\" fill=\"none\"/>\n",
              "    <path d=\"M18.56 5.44l.94 2.06.94-2.06 2.06-.94-2.06-.94-.94-2.06-.94 2.06-2.06.94zm-11 1L8.5 8.5l.94-2.06 2.06-.94-2.06-.94L8.5 2.5l-.94 2.06-2.06.94zm10 10l.94 2.06.94-2.06 2.06-.94-2.06-.94-.94-2.06-.94 2.06-2.06.94z\"/><path d=\"M17.41 7.96l-1.37-1.37c-.4-.4-.92-.59-1.43-.59-.52 0-1.04.2-1.43.59L10.3 9.45l-7.72 7.72c-.78.78-.78 2.05 0 2.83L4 21.41c.39.39.9.59 1.41.59.51 0 1.02-.2 1.41-.59l7.78-7.78 2.81-2.81c.8-.78.8-2.07 0-2.86zM5.41 20L4 18.59l7.72-7.72 1.47 1.35L5.41 20z\"/>\n",
              "  </svg>\n",
              "      </button>\n",
              "      \n",
              "  <style>\n",
              "    .colab-df-container {\n",
              "      display:flex;\n",
              "      flex-wrap:wrap;\n",
              "      gap: 12px;\n",
              "    }\n",
              "\n",
              "    .colab-df-convert {\n",
              "      background-color: #E8F0FE;\n",
              "      border: none;\n",
              "      border-radius: 50%;\n",
              "      cursor: pointer;\n",
              "      display: none;\n",
              "      fill: #1967D2;\n",
              "      height: 32px;\n",
              "      padding: 0 0 0 0;\n",
              "      width: 32px;\n",
              "    }\n",
              "\n",
              "    .colab-df-convert:hover {\n",
              "      background-color: #E2EBFA;\n",
              "      box-shadow: 0px 1px 2px rgba(60, 64, 67, 0.3), 0px 1px 3px 1px rgba(60, 64, 67, 0.15);\n",
              "      fill: #174EA6;\n",
              "    }\n",
              "\n",
              "    [theme=dark] .colab-df-convert {\n",
              "      background-color: #3B4455;\n",
              "      fill: #D2E3FC;\n",
              "    }\n",
              "\n",
              "    [theme=dark] .colab-df-convert:hover {\n",
              "      background-color: #434B5C;\n",
              "      box-shadow: 0px 1px 3px 1px rgba(0, 0, 0, 0.15);\n",
              "      filter: drop-shadow(0px 1px 2px rgba(0, 0, 0, 0.3));\n",
              "      fill: #FFFFFF;\n",
              "    }\n",
              "  </style>\n",
              "\n",
              "      <script>\n",
              "        const buttonEl =\n",
              "          document.querySelector('#df-85153a84-7785-4d59-b17d-ebe74784177e button.colab-df-convert');\n",
              "        buttonEl.style.display =\n",
              "          google.colab.kernel.accessAllowed ? 'block' : 'none';\n",
              "\n",
              "        async function convertToInteractive(key) {\n",
              "          const element = document.querySelector('#df-85153a84-7785-4d59-b17d-ebe74784177e');\n",
              "          const dataTable =\n",
              "            await google.colab.kernel.invokeFunction('convertToInteractive',\n",
              "                                                     [key], {});\n",
              "          if (!dataTable) return;\n",
              "\n",
              "          const docLinkHtml = 'Like what you see? Visit the ' +\n",
              "            '<a target=\"_blank\" href=https://colab.research.google.com/notebooks/data_table.ipynb>data table notebook</a>'\n",
              "            + ' to learn more about interactive tables.';\n",
              "          element.innerHTML = '';\n",
              "          dataTable['output_type'] = 'display_data';\n",
              "          await google.colab.output.renderOutput(dataTable, element);\n",
              "          const docLink = document.createElement('div');\n",
              "          docLink.innerHTML = docLinkHtml;\n",
              "          element.appendChild(docLink);\n",
              "        }\n",
              "      </script>\n",
              "    </div>\n",
              "  </div>\n",
              "  "
            ],
            "text/plain": [
              "        target        X1        X2  ...         X5  X6         X7\n",
              "0     3.436244  0.210854 -2.451307  ... -67.874319   5  -5.760571\n",
              "1  1525.839412  2.157483  4.337776  ... -68.405526   8  10.193773\n",
              "2   455.600191  5.166359 -0.452615  ... -66.240021   0  -1.063645\n",
              "3     0.619759  3.276641 -3.607201  ... -69.971690   8  -8.476921\n",
              "4    10.996472 -1.867485 -2.408863  ... -53.647149   5  -5.660827\n",
              "\n",
              "[5 rows x 8 columns]"
            ]
          },
          "metadata": {},
          "execution_count": 9
        }
      ]
    },
    {
      "cell_type": "code",
      "metadata": {
        "id": "bA_GoUW0FETN",
        "colab": {
          "base_uri": "https://localhost:8080/"
        },
        "outputId": "67850062-33df-44f0-f9f4-897b1b3af9ba"
      },
      "source": [
        "df_teste.isnull().sum() #quantidade de nulos por coluna"
      ],
      "execution_count": 10,
      "outputs": [
        {
          "output_type": "execute_result",
          "data": {
            "text/plain": [
              "target    81\n",
              "X1         0\n",
              "X2         0\n",
              "X3         0\n",
              "X4         0\n",
              "X5         0\n",
              "X6         0\n",
              "X7         0\n",
              "dtype: int64"
            ]
          },
          "metadata": {},
          "execution_count": 10
        }
      ]
    },
    {
      "cell_type": "markdown",
      "source": [
        "## Tratando valores nulos da base de teste"
      ],
      "metadata": {
        "id": "Rfew0MqsxyVN"
      }
    },
    {
      "cell_type": "code",
      "source": [
        "\n",
        "# substituindo nulos pela média \n",
        "\n",
        "df_teste['target'].fillna(df_teste['target'].mean(), inplace=True)\n"
      ],
      "metadata": {
        "id": "4KSjBzIdwTn_"
      },
      "execution_count": 11,
      "outputs": []
    },
    {
      "cell_type": "code",
      "source": [
        "df_teste.isnull().sum() #quantidade de nulos por coluna"
      ],
      "metadata": {
        "colab": {
          "base_uri": "https://localhost:8080/"
        },
        "id": "7meLfCg-wcVY",
        "outputId": "c1d4f154-0d15-4741-d73a-4c99b288d1d3"
      },
      "execution_count": 33,
      "outputs": [
        {
          "output_type": "execute_result",
          "data": {
            "text/plain": [
              "target    0\n",
              "X1        0\n",
              "X2        0\n",
              "X3        0\n",
              "X4        0\n",
              "X5        0\n",
              "X6        0\n",
              "X7        0\n",
              "dtype: int64"
            ]
          },
          "metadata": {},
          "execution_count": 33
        }
      ]
    },
    {
      "cell_type": "markdown",
      "metadata": {
        "id": "pOhA2QZk-hel"
      },
      "source": [
        "# REGRESSÃO LINEAR\n",
        "\n",
        "Fontes: [Regressão Linear com Sklearn: Conceito e Aplicação](https://medium.com/@lamartine_sl/regress%C3%A3o-linear-com-sklearn-modelo-de-previs%C3%A3o-de-custos-com-plano-de-sa%C3%BAde-5e963e590f4c)\n",
        "\n",
        "\n",
        "[Modelo com statsmodels](https://joaogbsczip.medium.com/regress%C3%A3o-linear-com-scikit-learn-582390c7ce1b)"
      ]
    },
    {
      "cell_type": "markdown",
      "metadata": {
        "id": "tVGBoCkhE8SE"
      },
      "source": [
        "## Modelo com o statsmodels\n",
        "\n",
        "Em nosso caso, já percebemos que de fato não há relação linear entre as variáveis, a correlação é bastante baixa.\n",
        "\n",
        "E agora, será que nosso modelo irá obter os melhores parâmetros possíveis? Em primeiro momento, criaremos um modelo utilizando a biblioteca statsmodels, essa biblioteca não é muito utilizada no mundo de ML pois é mais voltada à estatística, mas para a construção de modelos para ML, acaba sendo usada principalmente para obter valores de testes de hipóteses por exemplo, o que a sk-learn não nos provê inicialmente.\n",
        "\n",
        "Após esse primeiro modelo, poderemos por exemplo, observar quais variáveis não possuem significância alguma para predizer o valor de y (variável dependente), apesar de que existem várias técnicas de feature selection específicas para isso."
      ]
    },
    {
      "cell_type": "markdown",
      "metadata": {
        "id": "vLaJZXMAGCDf"
      },
      "source": [
        "Conforme apresentado em sua documentação, statsmodels é uma biblioteca escrita em Python que provê diversas classes e métodos para a grande maioria de modelos e testes estatísticos.\n",
        "\n",
        "Utilizaremos o seu método OLS, que advém de Ordinary Least Squares, passando as nossas variáveis X e y (variáveis independentes e dependente, respectivamente) treinaremos o modelo e, após o treinamento, será utilizado o método summary para verificar as estatísticas do mesmo."
      ]
    },
    {
      "cell_type": "code",
      "metadata": {
        "id": "sM599nI1E8GK"
      },
      "source": [
        "\n",
        "# Separando os dados transformados em X e y\n",
        "\n",
        "X_sm = df_treino.drop(['target'], axis = 1)\n",
        "\n",
        "y_sm = df_treino.target"
      ],
      "execution_count": 12,
      "outputs": []
    },
    {
      "cell_type": "code",
      "source": [
        "X_sm.head(5)"
      ],
      "metadata": {
        "colab": {
          "base_uri": "https://localhost:8080/",
          "height": 206
        },
        "id": "5IbQ8lIxh_HZ",
        "outputId": "11e388ba-93df-45c9-9d0b-717252f01ac9"
      },
      "execution_count": 13,
      "outputs": [
        {
          "output_type": "execute_result",
          "data": {
            "text/html": [
              "\n",
              "  <div id=\"df-d3ff9d7a-e520-4a6b-b3b9-5bce941fa0b0\">\n",
              "    <div class=\"colab-df-container\">\n",
              "      <div>\n",
              "<style scoped>\n",
              "    .dataframe tbody tr th:only-of-type {\n",
              "        vertical-align: middle;\n",
              "    }\n",
              "\n",
              "    .dataframe tbody tr th {\n",
              "        vertical-align: top;\n",
              "    }\n",
              "\n",
              "    .dataframe thead th {\n",
              "        text-align: right;\n",
              "    }\n",
              "</style>\n",
              "<table border=\"1\" class=\"dataframe\">\n",
              "  <thead>\n",
              "    <tr style=\"text-align: right;\">\n",
              "      <th></th>\n",
              "      <th>X1</th>\n",
              "      <th>X2</th>\n",
              "      <th>X3</th>\n",
              "      <th>X4</th>\n",
              "      <th>X5</th>\n",
              "      <th>X6</th>\n",
              "      <th>X7</th>\n",
              "    </tr>\n",
              "  </thead>\n",
              "  <tbody>\n",
              "    <tr>\n",
              "      <th>0</th>\n",
              "      <td>-0.546168</td>\n",
              "      <td>-0.460781</td>\n",
              "      <td>47.063305</td>\n",
              "      <td>1.611370</td>\n",
              "      <td>-65.882137</td>\n",
              "      <td>0</td>\n",
              "      <td>-16.672865</td>\n",
              "    </tr>\n",
              "    <tr>\n",
              "      <th>1</th>\n",
              "      <td>3.074317</td>\n",
              "      <td>-2.836000</td>\n",
              "      <td>49.396649</td>\n",
              "      <td>0.261998</td>\n",
              "      <td>-66.570716</td>\n",
              "      <td>0</td>\n",
              "      <td>-6.664599</td>\n",
              "    </tr>\n",
              "    <tr>\n",
              "      <th>2</th>\n",
              "      <td>-1.485531</td>\n",
              "      <td>-13.102537</td>\n",
              "      <td>42.367991</td>\n",
              "      <td>3.991558</td>\n",
              "      <td>-67.108014</td>\n",
              "      <td>8</td>\n",
              "      <td>-30.790962</td>\n",
              "    </tr>\n",
              "    <tr>\n",
              "      <th>3</th>\n",
              "      <td>6.907396</td>\n",
              "      <td>-0.308967</td>\n",
              "      <td>57.228787</td>\n",
              "      <td>0.256771</td>\n",
              "      <td>-66.181266</td>\n",
              "      <td>5</td>\n",
              "      <td>-0.726072</td>\n",
              "    </tr>\n",
              "    <tr>\n",
              "      <th>4</th>\n",
              "      <td>1.916788</td>\n",
              "      <td>3.460290</td>\n",
              "      <td>51.703375</td>\n",
              "      <td>2.463790</td>\n",
              "      <td>-65.143663</td>\n",
              "      <td>5</td>\n",
              "      <td>8.131680</td>\n",
              "    </tr>\n",
              "  </tbody>\n",
              "</table>\n",
              "</div>\n",
              "      <button class=\"colab-df-convert\" onclick=\"convertToInteractive('df-d3ff9d7a-e520-4a6b-b3b9-5bce941fa0b0')\"\n",
              "              title=\"Convert this dataframe to an interactive table.\"\n",
              "              style=\"display:none;\">\n",
              "        \n",
              "  <svg xmlns=\"http://www.w3.org/2000/svg\" height=\"24px\"viewBox=\"0 0 24 24\"\n",
              "       width=\"24px\">\n",
              "    <path d=\"M0 0h24v24H0V0z\" fill=\"none\"/>\n",
              "    <path d=\"M18.56 5.44l.94 2.06.94-2.06 2.06-.94-2.06-.94-.94-2.06-.94 2.06-2.06.94zm-11 1L8.5 8.5l.94-2.06 2.06-.94-2.06-.94L8.5 2.5l-.94 2.06-2.06.94zm10 10l.94 2.06.94-2.06 2.06-.94-2.06-.94-.94-2.06-.94 2.06-2.06.94z\"/><path d=\"M17.41 7.96l-1.37-1.37c-.4-.4-.92-.59-1.43-.59-.52 0-1.04.2-1.43.59L10.3 9.45l-7.72 7.72c-.78.78-.78 2.05 0 2.83L4 21.41c.39.39.9.59 1.41.59.51 0 1.02-.2 1.41-.59l7.78-7.78 2.81-2.81c.8-.78.8-2.07 0-2.86zM5.41 20L4 18.59l7.72-7.72 1.47 1.35L5.41 20z\"/>\n",
              "  </svg>\n",
              "      </button>\n",
              "      \n",
              "  <style>\n",
              "    .colab-df-container {\n",
              "      display:flex;\n",
              "      flex-wrap:wrap;\n",
              "      gap: 12px;\n",
              "    }\n",
              "\n",
              "    .colab-df-convert {\n",
              "      background-color: #E8F0FE;\n",
              "      border: none;\n",
              "      border-radius: 50%;\n",
              "      cursor: pointer;\n",
              "      display: none;\n",
              "      fill: #1967D2;\n",
              "      height: 32px;\n",
              "      padding: 0 0 0 0;\n",
              "      width: 32px;\n",
              "    }\n",
              "\n",
              "    .colab-df-convert:hover {\n",
              "      background-color: #E2EBFA;\n",
              "      box-shadow: 0px 1px 2px rgba(60, 64, 67, 0.3), 0px 1px 3px 1px rgba(60, 64, 67, 0.15);\n",
              "      fill: #174EA6;\n",
              "    }\n",
              "\n",
              "    [theme=dark] .colab-df-convert {\n",
              "      background-color: #3B4455;\n",
              "      fill: #D2E3FC;\n",
              "    }\n",
              "\n",
              "    [theme=dark] .colab-df-convert:hover {\n",
              "      background-color: #434B5C;\n",
              "      box-shadow: 0px 1px 3px 1px rgba(0, 0, 0, 0.15);\n",
              "      filter: drop-shadow(0px 1px 2px rgba(0, 0, 0, 0.3));\n",
              "      fill: #FFFFFF;\n",
              "    }\n",
              "  </style>\n",
              "\n",
              "      <script>\n",
              "        const buttonEl =\n",
              "          document.querySelector('#df-d3ff9d7a-e520-4a6b-b3b9-5bce941fa0b0 button.colab-df-convert');\n",
              "        buttonEl.style.display =\n",
              "          google.colab.kernel.accessAllowed ? 'block' : 'none';\n",
              "\n",
              "        async function convertToInteractive(key) {\n",
              "          const element = document.querySelector('#df-d3ff9d7a-e520-4a6b-b3b9-5bce941fa0b0');\n",
              "          const dataTable =\n",
              "            await google.colab.kernel.invokeFunction('convertToInteractive',\n",
              "                                                     [key], {});\n",
              "          if (!dataTable) return;\n",
              "\n",
              "          const docLinkHtml = 'Like what you see? Visit the ' +\n",
              "            '<a target=\"_blank\" href=https://colab.research.google.com/notebooks/data_table.ipynb>data table notebook</a>'\n",
              "            + ' to learn more about interactive tables.';\n",
              "          element.innerHTML = '';\n",
              "          dataTable['output_type'] = 'display_data';\n",
              "          await google.colab.output.renderOutput(dataTable, element);\n",
              "          const docLink = document.createElement('div');\n",
              "          docLink.innerHTML = docLinkHtml;\n",
              "          element.appendChild(docLink);\n",
              "        }\n",
              "      </script>\n",
              "    </div>\n",
              "  </div>\n",
              "  "
            ],
            "text/plain": [
              "         X1         X2         X3        X4         X5  X6         X7\n",
              "0 -0.546168  -0.460781  47.063305  1.611370 -65.882137   0 -16.672865\n",
              "1  3.074317  -2.836000  49.396649  0.261998 -66.570716   0  -6.664599\n",
              "2 -1.485531 -13.102537  42.367991  3.991558 -67.108014   8 -30.790962\n",
              "3  6.907396  -0.308967  57.228787  0.256771 -66.181266   5  -0.726072\n",
              "4  1.916788   3.460290  51.703375  2.463790 -65.143663   5   8.131680"
            ]
          },
          "metadata": {},
          "execution_count": 13
        }
      ]
    },
    {
      "cell_type": "code",
      "source": [
        "y_sm.head(5)"
      ],
      "metadata": {
        "colab": {
          "base_uri": "https://localhost:8080/"
        },
        "id": "49L1tcVYiC_1",
        "outputId": "1460f18e-b139-4a5b-a5ea-483b362acc62"
      },
      "execution_count": 14,
      "outputs": [
        {
          "output_type": "execute_result",
          "data": {
            "text/plain": [
              "0    1349.940229\n",
              "1      47.735389\n",
              "2    1349.940229\n",
              "3     908.202209\n",
              "4    1640.461863\n",
              "Name: target, dtype: float64"
            ]
          },
          "metadata": {},
          "execution_count": 14
        }
      ]
    },
    {
      "cell_type": "code",
      "source": [
        "# Adicionando coeficiente as variáveis independentes\n",
        "X_sm = sm.add_constant(X_sm)\n",
        "X_sm.head(5)"
      ],
      "metadata": {
        "colab": {
          "base_uri": "https://localhost:8080/",
          "height": 206
        },
        "id": "hkdne4Bxh38c",
        "outputId": "31698056-2c2f-4888-990b-e55129ccf215"
      },
      "execution_count": 15,
      "outputs": [
        {
          "output_type": "execute_result",
          "data": {
            "text/html": [
              "\n",
              "  <div id=\"df-3af4827b-751e-4eeb-b73a-4db997513fce\">\n",
              "    <div class=\"colab-df-container\">\n",
              "      <div>\n",
              "<style scoped>\n",
              "    .dataframe tbody tr th:only-of-type {\n",
              "        vertical-align: middle;\n",
              "    }\n",
              "\n",
              "    .dataframe tbody tr th {\n",
              "        vertical-align: top;\n",
              "    }\n",
              "\n",
              "    .dataframe thead th {\n",
              "        text-align: right;\n",
              "    }\n",
              "</style>\n",
              "<table border=\"1\" class=\"dataframe\">\n",
              "  <thead>\n",
              "    <tr style=\"text-align: right;\">\n",
              "      <th></th>\n",
              "      <th>const</th>\n",
              "      <th>X1</th>\n",
              "      <th>X2</th>\n",
              "      <th>X3</th>\n",
              "      <th>X4</th>\n",
              "      <th>X5</th>\n",
              "      <th>X6</th>\n",
              "      <th>X7</th>\n",
              "    </tr>\n",
              "  </thead>\n",
              "  <tbody>\n",
              "    <tr>\n",
              "      <th>0</th>\n",
              "      <td>1.0</td>\n",
              "      <td>-0.546168</td>\n",
              "      <td>-0.460781</td>\n",
              "      <td>47.063305</td>\n",
              "      <td>1.611370</td>\n",
              "      <td>-65.882137</td>\n",
              "      <td>0</td>\n",
              "      <td>-16.672865</td>\n",
              "    </tr>\n",
              "    <tr>\n",
              "      <th>1</th>\n",
              "      <td>1.0</td>\n",
              "      <td>3.074317</td>\n",
              "      <td>-2.836000</td>\n",
              "      <td>49.396649</td>\n",
              "      <td>0.261998</td>\n",
              "      <td>-66.570716</td>\n",
              "      <td>0</td>\n",
              "      <td>-6.664599</td>\n",
              "    </tr>\n",
              "    <tr>\n",
              "      <th>2</th>\n",
              "      <td>1.0</td>\n",
              "      <td>-1.485531</td>\n",
              "      <td>-13.102537</td>\n",
              "      <td>42.367991</td>\n",
              "      <td>3.991558</td>\n",
              "      <td>-67.108014</td>\n",
              "      <td>8</td>\n",
              "      <td>-30.790962</td>\n",
              "    </tr>\n",
              "    <tr>\n",
              "      <th>3</th>\n",
              "      <td>1.0</td>\n",
              "      <td>6.907396</td>\n",
              "      <td>-0.308967</td>\n",
              "      <td>57.228787</td>\n",
              "      <td>0.256771</td>\n",
              "      <td>-66.181266</td>\n",
              "      <td>5</td>\n",
              "      <td>-0.726072</td>\n",
              "    </tr>\n",
              "    <tr>\n",
              "      <th>4</th>\n",
              "      <td>1.0</td>\n",
              "      <td>1.916788</td>\n",
              "      <td>3.460290</td>\n",
              "      <td>51.703375</td>\n",
              "      <td>2.463790</td>\n",
              "      <td>-65.143663</td>\n",
              "      <td>5</td>\n",
              "      <td>8.131680</td>\n",
              "    </tr>\n",
              "  </tbody>\n",
              "</table>\n",
              "</div>\n",
              "      <button class=\"colab-df-convert\" onclick=\"convertToInteractive('df-3af4827b-751e-4eeb-b73a-4db997513fce')\"\n",
              "              title=\"Convert this dataframe to an interactive table.\"\n",
              "              style=\"display:none;\">\n",
              "        \n",
              "  <svg xmlns=\"http://www.w3.org/2000/svg\" height=\"24px\"viewBox=\"0 0 24 24\"\n",
              "       width=\"24px\">\n",
              "    <path d=\"M0 0h24v24H0V0z\" fill=\"none\"/>\n",
              "    <path d=\"M18.56 5.44l.94 2.06.94-2.06 2.06-.94-2.06-.94-.94-2.06-.94 2.06-2.06.94zm-11 1L8.5 8.5l.94-2.06 2.06-.94-2.06-.94L8.5 2.5l-.94 2.06-2.06.94zm10 10l.94 2.06.94-2.06 2.06-.94-2.06-.94-.94-2.06-.94 2.06-2.06.94z\"/><path d=\"M17.41 7.96l-1.37-1.37c-.4-.4-.92-.59-1.43-.59-.52 0-1.04.2-1.43.59L10.3 9.45l-7.72 7.72c-.78.78-.78 2.05 0 2.83L4 21.41c.39.39.9.59 1.41.59.51 0 1.02-.2 1.41-.59l7.78-7.78 2.81-2.81c.8-.78.8-2.07 0-2.86zM5.41 20L4 18.59l7.72-7.72 1.47 1.35L5.41 20z\"/>\n",
              "  </svg>\n",
              "      </button>\n",
              "      \n",
              "  <style>\n",
              "    .colab-df-container {\n",
              "      display:flex;\n",
              "      flex-wrap:wrap;\n",
              "      gap: 12px;\n",
              "    }\n",
              "\n",
              "    .colab-df-convert {\n",
              "      background-color: #E8F0FE;\n",
              "      border: none;\n",
              "      border-radius: 50%;\n",
              "      cursor: pointer;\n",
              "      display: none;\n",
              "      fill: #1967D2;\n",
              "      height: 32px;\n",
              "      padding: 0 0 0 0;\n",
              "      width: 32px;\n",
              "    }\n",
              "\n",
              "    .colab-df-convert:hover {\n",
              "      background-color: #E2EBFA;\n",
              "      box-shadow: 0px 1px 2px rgba(60, 64, 67, 0.3), 0px 1px 3px 1px rgba(60, 64, 67, 0.15);\n",
              "      fill: #174EA6;\n",
              "    }\n",
              "\n",
              "    [theme=dark] .colab-df-convert {\n",
              "      background-color: #3B4455;\n",
              "      fill: #D2E3FC;\n",
              "    }\n",
              "\n",
              "    [theme=dark] .colab-df-convert:hover {\n",
              "      background-color: #434B5C;\n",
              "      box-shadow: 0px 1px 3px 1px rgba(0, 0, 0, 0.15);\n",
              "      filter: drop-shadow(0px 1px 2px rgba(0, 0, 0, 0.3));\n",
              "      fill: #FFFFFF;\n",
              "    }\n",
              "  </style>\n",
              "\n",
              "      <script>\n",
              "        const buttonEl =\n",
              "          document.querySelector('#df-3af4827b-751e-4eeb-b73a-4db997513fce button.colab-df-convert');\n",
              "        buttonEl.style.display =\n",
              "          google.colab.kernel.accessAllowed ? 'block' : 'none';\n",
              "\n",
              "        async function convertToInteractive(key) {\n",
              "          const element = document.querySelector('#df-3af4827b-751e-4eeb-b73a-4db997513fce');\n",
              "          const dataTable =\n",
              "            await google.colab.kernel.invokeFunction('convertToInteractive',\n",
              "                                                     [key], {});\n",
              "          if (!dataTable) return;\n",
              "\n",
              "          const docLinkHtml = 'Like what you see? Visit the ' +\n",
              "            '<a target=\"_blank\" href=https://colab.research.google.com/notebooks/data_table.ipynb>data table notebook</a>'\n",
              "            + ' to learn more about interactive tables.';\n",
              "          element.innerHTML = '';\n",
              "          dataTable['output_type'] = 'display_data';\n",
              "          await google.colab.output.renderOutput(dataTable, element);\n",
              "          const docLink = document.createElement('div');\n",
              "          docLink.innerHTML = docLinkHtml;\n",
              "          element.appendChild(docLink);\n",
              "        }\n",
              "      </script>\n",
              "    </div>\n",
              "  </div>\n",
              "  "
            ],
            "text/plain": [
              "   const        X1         X2         X3        X4         X5  X6         X7\n",
              "0    1.0 -0.546168  -0.460781  47.063305  1.611370 -65.882137   0 -16.672865\n",
              "1    1.0  3.074317  -2.836000  49.396649  0.261998 -66.570716   0  -6.664599\n",
              "2    1.0 -1.485531 -13.102537  42.367991  3.991558 -67.108014   8 -30.790962\n",
              "3    1.0  6.907396  -0.308967  57.228787  0.256771 -66.181266   5  -0.726072\n",
              "4    1.0  1.916788   3.460290  51.703375  2.463790 -65.143663   5   8.131680"
            ]
          },
          "metadata": {},
          "execution_count": 15
        }
      ]
    },
    {
      "cell_type": "code",
      "source": [
        "# Treinando o modelo\n",
        "model_sm = sm.OLS(y_sm, X_sm).fit()\n",
        "\n",
        "\n",
        "# Visualizando as estatística do modelo treinado\n",
        "model_sm.summary()"
      ],
      "metadata": {
        "colab": {
          "base_uri": "https://localhost:8080/",
          "height": 580
        },
        "id": "e5N8osNFiTFE",
        "outputId": "003874cb-dc97-40c3-9598-0c12f7c4caa5"
      },
      "execution_count": 16,
      "outputs": [
        {
          "output_type": "execute_result",
          "data": {
            "text/html": [
              "<table class=\"simpletable\">\n",
              "<caption>OLS Regression Results</caption>\n",
              "<tr>\n",
              "  <th>Dep. Variable:</th>         <td>target</td>      <th>  R-squared:         </th> <td>   0.334</td> \n",
              "</tr>\n",
              "<tr>\n",
              "  <th>Model:</th>                   <td>OLS</td>       <th>  Adj. R-squared:    </th> <td>   0.329</td> \n",
              "</tr>\n",
              "<tr>\n",
              "  <th>Method:</th>             <td>Least Squares</td>  <th>  F-statistic:       </th> <td>   73.93</td> \n",
              "</tr>\n",
              "<tr>\n",
              "  <th>Date:</th>             <td>Fri, 28 Jan 2022</td> <th>  Prob (F-statistic):</th> <td>9.28e-87</td> \n",
              "</tr>\n",
              "<tr>\n",
              "  <th>Time:</th>                 <td>18:52:00</td>     <th>  Log-Likelihood:    </th> <td> -8753.4</td> \n",
              "</tr>\n",
              "<tr>\n",
              "  <th>No. Observations:</th>      <td>  1042</td>      <th>  AIC:               </th> <td>1.752e+04</td>\n",
              "</tr>\n",
              "<tr>\n",
              "  <th>Df Residuals:</th>          <td>  1034</td>      <th>  BIC:               </th> <td>1.756e+04</td>\n",
              "</tr>\n",
              "<tr>\n",
              "  <th>Df Model:</th>              <td>     7</td>      <th>                     </th>     <td> </td>    \n",
              "</tr>\n",
              "<tr>\n",
              "  <th>Covariance Type:</th>      <td>nonrobust</td>    <th>                     </th>     <td> </td>    \n",
              "</tr>\n",
              "</table>\n",
              "<table class=\"simpletable\">\n",
              "<tr>\n",
              "    <td></td>       <th>coef</th>     <th>std err</th>      <th>t</th>      <th>P>|t|</th>  <th>[0.025</th>    <th>0.975]</th>  \n",
              "</tr>\n",
              "<tr>\n",
              "  <th>const</th> <td> 1012.5677</td> <td>  259.399</td> <td>    3.904</td> <td> 0.000</td> <td>  503.560</td> <td> 1521.576</td>\n",
              "</tr>\n",
              "<tr>\n",
              "  <th>X1</th>    <td>   37.2658</td> <td>   12.742</td> <td>    2.925</td> <td> 0.004</td> <td>   12.262</td> <td>   62.270</td>\n",
              "</tr>\n",
              "<tr>\n",
              "  <th>X2</th>    <td>  155.2508</td> <td>   20.963</td> <td>    7.406</td> <td> 0.000</td> <td>  114.116</td> <td>  196.386</td>\n",
              "</tr>\n",
              "<tr>\n",
              "  <th>X3</th>    <td>    0.1560</td> <td>    1.079</td> <td>    0.145</td> <td> 0.885</td> <td>   -1.962</td> <td>    2.274</td>\n",
              "</tr>\n",
              "<tr>\n",
              "  <th>X4</th>    <td>   -8.9796</td> <td>   13.225</td> <td>   -0.679</td> <td> 0.497</td> <td>  -34.931</td> <td>   16.971</td>\n",
              "</tr>\n",
              "<tr>\n",
              "  <th>X5</th>    <td>   -4.3851</td> <td>    3.720</td> <td>   -1.179</td> <td> 0.239</td> <td>  -11.685</td> <td>    2.915</td>\n",
              "</tr>\n",
              "<tr>\n",
              "  <th>X6</th>    <td>   10.7073</td> <td>   10.272</td> <td>    1.042</td> <td> 0.297</td> <td>   -9.449</td> <td>   30.864</td>\n",
              "</tr>\n",
              "<tr>\n",
              "  <th>X7</th>    <td>    0.4281</td> <td>    8.248</td> <td>    0.052</td> <td> 0.959</td> <td>  -15.758</td> <td>   16.614</td>\n",
              "</tr>\n",
              "</table>\n",
              "<table class=\"simpletable\">\n",
              "<tr>\n",
              "  <th>Omnibus:</th>       <td>314.523</td> <th>  Durbin-Watson:     </th> <td>   1.968</td> \n",
              "</tr>\n",
              "<tr>\n",
              "  <th>Prob(Omnibus):</th> <td> 0.000</td>  <th>  Jarque-Bera (JB):  </th> <td>1026.206</td> \n",
              "</tr>\n",
              "<tr>\n",
              "  <th>Skew:</th>          <td> 1.468</td>  <th>  Prob(JB):          </th> <td>1.45e-223</td>\n",
              "</tr>\n",
              "<tr>\n",
              "  <th>Kurtosis:</th>      <td> 6.875</td>  <th>  Cond. No.          </th> <td>    670.</td> \n",
              "</tr>\n",
              "</table><br/><br/>Warnings:<br/>[1] Standard Errors assume that the covariance matrix of the errors is correctly specified."
            ],
            "text/plain": [
              "<class 'statsmodels.iolib.summary.Summary'>\n",
              "\"\"\"\n",
              "                            OLS Regression Results                            \n",
              "==============================================================================\n",
              "Dep. Variable:                 target   R-squared:                       0.334\n",
              "Model:                            OLS   Adj. R-squared:                  0.329\n",
              "Method:                 Least Squares   F-statistic:                     73.93\n",
              "Date:                Fri, 28 Jan 2022   Prob (F-statistic):           9.28e-87\n",
              "Time:                        18:52:00   Log-Likelihood:                -8753.4\n",
              "No. Observations:                1042   AIC:                         1.752e+04\n",
              "Df Residuals:                    1034   BIC:                         1.756e+04\n",
              "Df Model:                           7                                         \n",
              "Covariance Type:            nonrobust                                         \n",
              "==============================================================================\n",
              "                 coef    std err          t      P>|t|      [0.025      0.975]\n",
              "------------------------------------------------------------------------------\n",
              "const       1012.5677    259.399      3.904      0.000     503.560    1521.576\n",
              "X1            37.2658     12.742      2.925      0.004      12.262      62.270\n",
              "X2           155.2508     20.963      7.406      0.000     114.116     196.386\n",
              "X3             0.1560      1.079      0.145      0.885      -1.962       2.274\n",
              "X4            -8.9796     13.225     -0.679      0.497     -34.931      16.971\n",
              "X5            -4.3851      3.720     -1.179      0.239     -11.685       2.915\n",
              "X6            10.7073     10.272      1.042      0.297      -9.449      30.864\n",
              "X7             0.4281      8.248      0.052      0.959     -15.758      16.614\n",
              "==============================================================================\n",
              "Omnibus:                      314.523   Durbin-Watson:                   1.968\n",
              "Prob(Omnibus):                  0.000   Jarque-Bera (JB):             1026.206\n",
              "Skew:                           1.468   Prob(JB):                    1.45e-223\n",
              "Kurtosis:                       6.875   Cond. No.                         670.\n",
              "==============================================================================\n",
              "\n",
              "Warnings:\n",
              "[1] Standard Errors assume that the covariance matrix of the errors is correctly specified.\n",
              "\"\"\""
            ]
          },
          "metadata": {},
          "execution_count": 16
        }
      ]
    },
    {
      "cell_type": "markdown",
      "metadata": {
        "id": "-Aw_xH568_zl"
      },
      "source": [
        "## Modelo com Sklearn"
      ]
    },
    {
      "cell_type": "markdown",
      "metadata": {
        "id": "Oga9gMwf9jbc"
      },
      "source": [
        "**O que será abordado:** \n",
        "\n",
        "1 - O que é Regressão?\n",
        "\n",
        "2 - Análise Exploratória dos Dados\n",
        "\n",
        "3 - Modelo de Regressão Linear\n",
        "\n",
        "4 - Performance do Modelo"
      ]
    },
    {
      "cell_type": "markdown",
      "metadata": {
        "id": "FL_H8DbT-NyZ"
      },
      "source": [
        "## 1- Modelo de regressão linear (o que é)\n",
        "\n",
        "Basicamente, o que o algoritmo de regressão linear faz é ajustar várias linhas nos pontos de dados e retornar a linha que resulta no menor erro. Tudo isso em uma equação matemática.\n",
        "\n",
        "Para representar a relação entre uma variável dependente (y) e uma variável independente (x), usamos o modelo:\n",
        "\n",
        "y=a+bx\n",
        "\n",
        "Onde:\n",
        "\n",
        "Y = Alvo\n",
        "\n",
        "a = Intercepto\n",
        "\n",
        "b = Inclinação da reta\n",
        "\n",
        "x = variável independente\n",
        "\n",
        "Em casos em que existam mais de duas variáveis, este conceito pode ser estendido, temos assim a regressão linear múltipla. Por exemplo, considere um cenário em que você deve prever o preço da casa com base em sua área, número de quartos, renda média das pessoas na área, idade da casa e assim por diante. Nesse caso, a variável dependente (variável de destino) depende de várias variáveis independentes."
      ]
    },
    {
      "cell_type": "markdown",
      "metadata": {
        "id": "E6GIkUPa-3JW"
      },
      "source": [
        "## 2 - Análise exploratória de dados\n",
        "\n",
        "feita em outro notebook."
      ]
    },
    {
      "cell_type": "markdown",
      "source": [
        "## 3 - Análise de correlação\n",
        "\n",
        "A primeira coisa que vamos verificar é a correlação entre as variáveis.\n",
        "O que a correlação procura entender é como uma variável se comporta em um cenário onde outra está variando, visando identificar se existe alguma relação entre a variabilidade de ambas. \n",
        "\n",
        "Embora não implique em causalidade, o coeficiente de correlação exprime em números essa relação, ou seja, quantifica a relação entre as variáveis."
      ],
      "metadata": {
        "id": "Sq0v0NncoweK"
      }
    },
    {
      "cell_type": "code",
      "metadata": {
        "id": "m_CSLEkS_vES",
        "colab": {
          "base_uri": "https://localhost:8080/",
          "height": 300
        },
        "outputId": "b51e3c56-5daf-4156-8f05-6e66e4ba5310"
      },
      "source": [
        "#matriz de correlação\n",
        "corr = df_treino.corr()\n",
        "corr"
      ],
      "execution_count": 17,
      "outputs": [
        {
          "output_type": "execute_result",
          "data": {
            "text/html": [
              "\n",
              "  <div id=\"df-202bad02-27f5-4205-b18c-669821aa6169\">\n",
              "    <div class=\"colab-df-container\">\n",
              "      <div>\n",
              "<style scoped>\n",
              "    .dataframe tbody tr th:only-of-type {\n",
              "        vertical-align: middle;\n",
              "    }\n",
              "\n",
              "    .dataframe tbody tr th {\n",
              "        vertical-align: top;\n",
              "    }\n",
              "\n",
              "    .dataframe thead th {\n",
              "        text-align: right;\n",
              "    }\n",
              "</style>\n",
              "<table border=\"1\" class=\"dataframe\">\n",
              "  <thead>\n",
              "    <tr style=\"text-align: right;\">\n",
              "      <th></th>\n",
              "      <th>target</th>\n",
              "      <th>X1</th>\n",
              "      <th>X2</th>\n",
              "      <th>X3</th>\n",
              "      <th>X4</th>\n",
              "      <th>X5</th>\n",
              "      <th>X6</th>\n",
              "      <th>X7</th>\n",
              "    </tr>\n",
              "  </thead>\n",
              "  <tbody>\n",
              "    <tr>\n",
              "      <th>target</th>\n",
              "      <td>1.000000</td>\n",
              "      <td>0.378873</td>\n",
              "      <td>0.571169</td>\n",
              "      <td>0.006167</td>\n",
              "      <td>-0.008957</td>\n",
              "      <td>-0.020438</td>\n",
              "      <td>0.033007</td>\n",
              "      <td>0.534023</td>\n",
              "    </tr>\n",
              "    <tr>\n",
              "      <th>X1</th>\n",
              "      <td>0.378873</td>\n",
              "      <td>1.000000</td>\n",
              "      <td>0.556527</td>\n",
              "      <td>0.025361</td>\n",
              "      <td>-0.029827</td>\n",
              "      <td>0.042807</td>\n",
              "      <td>-0.022386</td>\n",
              "      <td>0.540101</td>\n",
              "    </tr>\n",
              "    <tr>\n",
              "      <th>X2</th>\n",
              "      <td>0.571169</td>\n",
              "      <td>0.556527</td>\n",
              "      <td>1.000000</td>\n",
              "      <td>0.004966</td>\n",
              "      <td>0.018835</td>\n",
              "      <td>0.010511</td>\n",
              "      <td>0.014123</td>\n",
              "      <td>0.928539</td>\n",
              "    </tr>\n",
              "    <tr>\n",
              "      <th>X3</th>\n",
              "      <td>0.006167</td>\n",
              "      <td>0.025361</td>\n",
              "      <td>0.004966</td>\n",
              "      <td>1.000000</td>\n",
              "      <td>0.008004</td>\n",
              "      <td>-0.003092</td>\n",
              "      <td>-0.093812</td>\n",
              "      <td>0.043176</td>\n",
              "    </tr>\n",
              "    <tr>\n",
              "      <th>X4</th>\n",
              "      <td>-0.008957</td>\n",
              "      <td>-0.029827</td>\n",
              "      <td>0.018835</td>\n",
              "      <td>0.008004</td>\n",
              "      <td>1.000000</td>\n",
              "      <td>-0.059369</td>\n",
              "      <td>-0.022158</td>\n",
              "      <td>0.012061</td>\n",
              "    </tr>\n",
              "    <tr>\n",
              "      <th>X5</th>\n",
              "      <td>-0.020438</td>\n",
              "      <td>0.042807</td>\n",
              "      <td>0.010511</td>\n",
              "      <td>-0.003092</td>\n",
              "      <td>-0.059369</td>\n",
              "      <td>1.000000</td>\n",
              "      <td>-0.027672</td>\n",
              "      <td>0.003798</td>\n",
              "    </tr>\n",
              "    <tr>\n",
              "      <th>X6</th>\n",
              "      <td>0.033007</td>\n",
              "      <td>-0.022386</td>\n",
              "      <td>0.014123</td>\n",
              "      <td>-0.093812</td>\n",
              "      <td>-0.022158</td>\n",
              "      <td>-0.027672</td>\n",
              "      <td>1.000000</td>\n",
              "      <td>0.037851</td>\n",
              "    </tr>\n",
              "    <tr>\n",
              "      <th>X7</th>\n",
              "      <td>0.534023</td>\n",
              "      <td>0.540101</td>\n",
              "      <td>0.928539</td>\n",
              "      <td>0.043176</td>\n",
              "      <td>0.012061</td>\n",
              "      <td>0.003798</td>\n",
              "      <td>0.037851</td>\n",
              "      <td>1.000000</td>\n",
              "    </tr>\n",
              "  </tbody>\n",
              "</table>\n",
              "</div>\n",
              "      <button class=\"colab-df-convert\" onclick=\"convertToInteractive('df-202bad02-27f5-4205-b18c-669821aa6169')\"\n",
              "              title=\"Convert this dataframe to an interactive table.\"\n",
              "              style=\"display:none;\">\n",
              "        \n",
              "  <svg xmlns=\"http://www.w3.org/2000/svg\" height=\"24px\"viewBox=\"0 0 24 24\"\n",
              "       width=\"24px\">\n",
              "    <path d=\"M0 0h24v24H0V0z\" fill=\"none\"/>\n",
              "    <path d=\"M18.56 5.44l.94 2.06.94-2.06 2.06-.94-2.06-.94-.94-2.06-.94 2.06-2.06.94zm-11 1L8.5 8.5l.94-2.06 2.06-.94-2.06-.94L8.5 2.5l-.94 2.06-2.06.94zm10 10l.94 2.06.94-2.06 2.06-.94-2.06-.94-.94-2.06-.94 2.06-2.06.94z\"/><path d=\"M17.41 7.96l-1.37-1.37c-.4-.4-.92-.59-1.43-.59-.52 0-1.04.2-1.43.59L10.3 9.45l-7.72 7.72c-.78.78-.78 2.05 0 2.83L4 21.41c.39.39.9.59 1.41.59.51 0 1.02-.2 1.41-.59l7.78-7.78 2.81-2.81c.8-.78.8-2.07 0-2.86zM5.41 20L4 18.59l7.72-7.72 1.47 1.35L5.41 20z\"/>\n",
              "  </svg>\n",
              "      </button>\n",
              "      \n",
              "  <style>\n",
              "    .colab-df-container {\n",
              "      display:flex;\n",
              "      flex-wrap:wrap;\n",
              "      gap: 12px;\n",
              "    }\n",
              "\n",
              "    .colab-df-convert {\n",
              "      background-color: #E8F0FE;\n",
              "      border: none;\n",
              "      border-radius: 50%;\n",
              "      cursor: pointer;\n",
              "      display: none;\n",
              "      fill: #1967D2;\n",
              "      height: 32px;\n",
              "      padding: 0 0 0 0;\n",
              "      width: 32px;\n",
              "    }\n",
              "\n",
              "    .colab-df-convert:hover {\n",
              "      background-color: #E2EBFA;\n",
              "      box-shadow: 0px 1px 2px rgba(60, 64, 67, 0.3), 0px 1px 3px 1px rgba(60, 64, 67, 0.15);\n",
              "      fill: #174EA6;\n",
              "    }\n",
              "\n",
              "    [theme=dark] .colab-df-convert {\n",
              "      background-color: #3B4455;\n",
              "      fill: #D2E3FC;\n",
              "    }\n",
              "\n",
              "    [theme=dark] .colab-df-convert:hover {\n",
              "      background-color: #434B5C;\n",
              "      box-shadow: 0px 1px 3px 1px rgba(0, 0, 0, 0.15);\n",
              "      filter: drop-shadow(0px 1px 2px rgba(0, 0, 0, 0.3));\n",
              "      fill: #FFFFFF;\n",
              "    }\n",
              "  </style>\n",
              "\n",
              "      <script>\n",
              "        const buttonEl =\n",
              "          document.querySelector('#df-202bad02-27f5-4205-b18c-669821aa6169 button.colab-df-convert');\n",
              "        buttonEl.style.display =\n",
              "          google.colab.kernel.accessAllowed ? 'block' : 'none';\n",
              "\n",
              "        async function convertToInteractive(key) {\n",
              "          const element = document.querySelector('#df-202bad02-27f5-4205-b18c-669821aa6169');\n",
              "          const dataTable =\n",
              "            await google.colab.kernel.invokeFunction('convertToInteractive',\n",
              "                                                     [key], {});\n",
              "          if (!dataTable) return;\n",
              "\n",
              "          const docLinkHtml = 'Like what you see? Visit the ' +\n",
              "            '<a target=\"_blank\" href=https://colab.research.google.com/notebooks/data_table.ipynb>data table notebook</a>'\n",
              "            + ' to learn more about interactive tables.';\n",
              "          element.innerHTML = '';\n",
              "          dataTable['output_type'] = 'display_data';\n",
              "          await google.colab.output.renderOutput(dataTable, element);\n",
              "          const docLink = document.createElement('div');\n",
              "          docLink.innerHTML = docLinkHtml;\n",
              "          element.appendChild(docLink);\n",
              "        }\n",
              "      </script>\n",
              "    </div>\n",
              "  </div>\n",
              "  "
            ],
            "text/plain": [
              "          target        X1        X2  ...        X5        X6        X7\n",
              "target  1.000000  0.378873  0.571169  ... -0.020438  0.033007  0.534023\n",
              "X1      0.378873  1.000000  0.556527  ...  0.042807 -0.022386  0.540101\n",
              "X2      0.571169  0.556527  1.000000  ...  0.010511  0.014123  0.928539\n",
              "X3      0.006167  0.025361  0.004966  ... -0.003092 -0.093812  0.043176\n",
              "X4     -0.008957 -0.029827  0.018835  ... -0.059369 -0.022158  0.012061\n",
              "X5     -0.020438  0.042807  0.010511  ...  1.000000 -0.027672  0.003798\n",
              "X6      0.033007 -0.022386  0.014123  ... -0.027672  1.000000  0.037851\n",
              "X7      0.534023  0.540101  0.928539  ...  0.003798  0.037851  1.000000\n",
              "\n",
              "[8 rows x 8 columns]"
            ]
          },
          "metadata": {},
          "execution_count": 17
        }
      ]
    },
    {
      "cell_type": "code",
      "metadata": {
        "id": "z3xDT9JI__8V",
        "colab": {
          "base_uri": "https://localhost:8080/",
          "height": 324
        },
        "outputId": "b3f36174-16aa-476c-d141-3352c7fb6978"
      },
      "source": [
        "#Vamos ver a correlação graficamente\n",
        "\n",
        "f, ax = plt.subplots(figsize=(15, 5))\n",
        "\n",
        "sns.heatmap(corr, cmap = sns.color_palette(\"Blues\"), linewidths=.5, annot=True);"
      ],
      "execution_count": 18,
      "outputs": [
        {
          "output_type": "display_data",
          "data": {
            "image/png": "[encoded data removed]",
            "text/plain": [
              "<Figure size 1080x360 with 2 Axes>"
            ]
          },
          "metadata": {
            "needs_background": "light"
          }
        }
      ]
    },
    {
      "cell_type": "code",
      "metadata": {
        "id": "dq43myq4AdqU",
        "colab": {
          "base_uri": "https://localhost:8080/",
          "height": 350
        },
        "outputId": "ac968775-76b7-4960-b50c-246646e08f60"
      },
      "source": [
        "#Distribuição do target\n",
        "\n",
        "plt.figure(figsize=(15,5))\n",
        "plt.title(\"Distribuição do target\")\n",
        "ax = sns.distplot(df_treino[\"target\"], color = 'b')\n"
      ],
      "execution_count": 19,
      "outputs": [
        {
          "output_type": "display_data",
          "data": {
            "image/png": "[encoded data removed]",
            "text/plain": [
              "<Figure size 1080x360 with 1 Axes>"
            ]
          },
          "metadata": {
            "needs_background": "light"
          }
        }
      ]
    },
    {
      "cell_type": "code",
      "metadata": {
        "id": "Vrrkjg7jBsiZ",
        "colab": {
          "base_uri": "https://localhost:8080/",
          "height": 404
        },
        "outputId": "80e04a0e-5f31-4a57-a63f-40e451307a60"
      },
      "source": [
        "#Distruição de proeficiencia por X6\n",
        "\n",
        "\n",
        "fig= plt.figure(figsize=(17,6))\n",
        "\n",
        "ax=fig.add_subplot(121)\n",
        "sns.distplot(df_treino[(df_treino.X6 == 0)][\"target\"],color='r',ax=ax)\n",
        "ax.set_title('Distribuição target X6 = 0');\n",
        "\n",
        "ax=fig.add_subplot(122)\n",
        "sns.distplot(df_treino[(df_treino.X6 == 8)]['target'],color='c',ax=ax)\n",
        "ax.set_title('Distribuição target X6 = 8');"
      ],
      "execution_count": 20,
      "outputs": [
        {
          "output_type": "display_data",
          "data": {
            "image/png": "[encoded data removed]",
            "text/plain": [
              "<Figure size 1224x432 with 2 Axes>"
            ]
          },
          "metadata": {
            "needs_background": "light"
          }
        }
      ]
    },
    {
      "cell_type": "markdown",
      "metadata": {
        "id": "qoukAaQ9D-9L"
      },
      "source": [
        "Agora usaremos uma função da biblioteca scikit-learn que é a train_test_split, esta função separa nossos dados entre treino e teste de forma aleatória, sendo treinado com uma parte dos dados e testados com a outra.\n",
        "\n",
        "Usaremos 80% dos dados para treino e 20% para teste, esta divisão é feita através da feature test_size=0.2\n"
      ]
    },
    {
      "cell_type": "code",
      "metadata": {
        "id": "h_Ra2jg2D5Di"
      },
      "source": [
        "\n",
        "# X matriz com as variaveis \n",
        "# Y vetor com as respostas\n",
        "\n",
        "X_train = df_treino.drop(['target'], axis = 1)\n",
        "y_train = df_treino.target\n",
        "\n",
        "X_test = df_teste.drop(['target'], axis = 1)\n",
        "y_test = df_teste.target\n"
      ],
      "execution_count": 21,
      "outputs": []
    },
    {
      "cell_type": "code",
      "source": [
        "X_train"
      ],
      "metadata": {
        "colab": {
          "base_uri": "https://localhost:8080/",
          "height": 424
        },
        "id": "7NimTrUmu2YZ",
        "outputId": "417c022d-abb6-44ae-f9db-16dbd688579d"
      },
      "execution_count": 22,
      "outputs": [
        {
          "output_type": "execute_result",
          "data": {
            "text/html": [
              "\n",
              "  <div id=\"df-02a15103-7452-4e45-90cd-f84646a9fb15\">\n",
              "    <div class=\"colab-df-container\">\n",
              "      <div>\n",
              "<style scoped>\n",
              "    .dataframe tbody tr th:only-of-type {\n",
              "        vertical-align: middle;\n",
              "    }\n",
              "\n",
              "    .dataframe tbody tr th {\n",
              "        vertical-align: top;\n",
              "    }\n",
              "\n",
              "    .dataframe thead th {\n",
              "        text-align: right;\n",
              "    }\n",
              "</style>\n",
              "<table border=\"1\" class=\"dataframe\">\n",
              "  <thead>\n",
              "    <tr style=\"text-align: right;\">\n",
              "      <th></th>\n",
              "      <th>X1</th>\n",
              "      <th>X2</th>\n",
              "      <th>X3</th>\n",
              "      <th>X4</th>\n",
              "      <th>X5</th>\n",
              "      <th>X6</th>\n",
              "      <th>X7</th>\n",
              "    </tr>\n",
              "  </thead>\n",
              "  <tbody>\n",
              "    <tr>\n",
              "      <th>0</th>\n",
              "      <td>-0.546168</td>\n",
              "      <td>-0.460781</td>\n",
              "      <td>47.063305</td>\n",
              "      <td>1.611370</td>\n",
              "      <td>-65.882137</td>\n",
              "      <td>0</td>\n",
              "      <td>-16.672865</td>\n",
              "    </tr>\n",
              "    <tr>\n",
              "      <th>1</th>\n",
              "      <td>3.074317</td>\n",
              "      <td>-2.836000</td>\n",
              "      <td>49.396649</td>\n",
              "      <td>0.261998</td>\n",
              "      <td>-66.570716</td>\n",
              "      <td>0</td>\n",
              "      <td>-6.664599</td>\n",
              "    </tr>\n",
              "    <tr>\n",
              "      <th>2</th>\n",
              "      <td>-1.485531</td>\n",
              "      <td>-13.102537</td>\n",
              "      <td>42.367991</td>\n",
              "      <td>3.991558</td>\n",
              "      <td>-67.108014</td>\n",
              "      <td>8</td>\n",
              "      <td>-30.790962</td>\n",
              "    </tr>\n",
              "    <tr>\n",
              "      <th>3</th>\n",
              "      <td>6.907396</td>\n",
              "      <td>-0.308967</td>\n",
              "      <td>57.228787</td>\n",
              "      <td>0.256771</td>\n",
              "      <td>-66.181266</td>\n",
              "      <td>5</td>\n",
              "      <td>-0.726072</td>\n",
              "    </tr>\n",
              "    <tr>\n",
              "      <th>4</th>\n",
              "      <td>1.916788</td>\n",
              "      <td>3.460290</td>\n",
              "      <td>51.703375</td>\n",
              "      <td>2.463790</td>\n",
              "      <td>-65.143663</td>\n",
              "      <td>5</td>\n",
              "      <td>8.131680</td>\n",
              "    </tr>\n",
              "    <tr>\n",
              "      <th>...</th>\n",
              "      <td>...</td>\n",
              "      <td>...</td>\n",
              "      <td>...</td>\n",
              "      <td>...</td>\n",
              "      <td>...</td>\n",
              "      <td>...</td>\n",
              "      <td>...</td>\n",
              "    </tr>\n",
              "    <tr>\n",
              "      <th>1037</th>\n",
              "      <td>5.375810</td>\n",
              "      <td>6.937947</td>\n",
              "      <td>55.810467</td>\n",
              "      <td>1.698025</td>\n",
              "      <td>-65.819509</td>\n",
              "      <td>8</td>\n",
              "      <td>16.304176</td>\n",
              "    </tr>\n",
              "    <tr>\n",
              "      <th>1038</th>\n",
              "      <td>0.619207</td>\n",
              "      <td>-1.925819</td>\n",
              "      <td>48.168606</td>\n",
              "      <td>1.357223</td>\n",
              "      <td>-65.385243</td>\n",
              "      <td>8</td>\n",
              "      <td>-4.525675</td>\n",
              "    </tr>\n",
              "    <tr>\n",
              "      <th>1039</th>\n",
              "      <td>4.548172</td>\n",
              "      <td>2.886253</td>\n",
              "      <td>47.775525</td>\n",
              "      <td>1.278439</td>\n",
              "      <td>-56.312543</td>\n",
              "      <td>8</td>\n",
              "      <td>6.782694</td>\n",
              "    </tr>\n",
              "    <tr>\n",
              "      <th>1040</th>\n",
              "      <td>1.806045</td>\n",
              "      <td>-3.015213</td>\n",
              "      <td>48.352707</td>\n",
              "      <td>4.627906</td>\n",
              "      <td>-57.722688</td>\n",
              "      <td>5</td>\n",
              "      <td>-7.085751</td>\n",
              "    </tr>\n",
              "    <tr>\n",
              "      <th>1041</th>\n",
              "      <td>6.002320</td>\n",
              "      <td>5.760220</td>\n",
              "      <td>41.926049</td>\n",
              "      <td>3.562797</td>\n",
              "      <td>-81.111346</td>\n",
              "      <td>8</td>\n",
              "      <td>13.536516</td>\n",
              "    </tr>\n",
              "  </tbody>\n",
              "</table>\n",
              "<p>1042 rows × 7 columns</p>\n",
              "</div>\n",
              "      <button class=\"colab-df-convert\" onclick=\"convertToInteractive('df-02a15103-7452-4e45-90cd-f84646a9fb15')\"\n",
              "              title=\"Convert this dataframe to an interactive table.\"\n",
              "              style=\"display:none;\">\n",
              "        \n",
              "  <svg xmlns=\"http://www.w3.org/2000/svg\" height=\"24px\"viewBox=\"0 0 24 24\"\n",
              "       width=\"24px\">\n",
              "    <path d=\"M0 0h24v24H0V0z\" fill=\"none\"/>\n",
              "    <path d=\"M18.56 5.44l.94 2.06.94-2.06 2.06-.94-2.06-.94-.94-2.06-.94 2.06-2.06.94zm-11 1L8.5 8.5l.94-2.06 2.06-.94-2.06-.94L8.5 2.5l-.94 2.06-2.06.94zm10 10l.94 2.06.94-2.06 2.06-.94-2.06-.94-.94-2.06-.94 2.06-2.06.94z\"/><path d=\"M17.41 7.96l-1.37-1.37c-.4-.4-.92-.59-1.43-.59-.52 0-1.04.2-1.43.59L10.3 9.45l-7.72 7.72c-.78.78-.78 2.05 0 2.83L4 21.41c.39.39.9.59 1.41.59.51 0 1.02-.2 1.41-.59l7.78-7.78 2.81-2.81c.8-.78.8-2.07 0-2.86zM5.41 20L4 18.59l7.72-7.72 1.47 1.35L5.41 20z\"/>\n",
              "  </svg>\n",
              "      </button>\n",
              "      \n",
              "  <style>\n",
              "    .colab-df-container {\n",
              "      display:flex;\n",
              "      flex-wrap:wrap;\n",
              "      gap: 12px;\n",
              "    }\n",
              "\n",
              "    .colab-df-convert {\n",
              "      background-color: #E8F0FE;\n",
              "      border: none;\n",
              "      border-radius: 50%;\n",
              "      cursor: pointer;\n",
              "      display: none;\n",
              "      fill: #1967D2;\n",
              "      height: 32px;\n",
              "      padding: 0 0 0 0;\n",
              "      width: 32px;\n",
              "    }\n",
              "\n",
              "    .colab-df-convert:hover {\n",
              "      background-color: #E2EBFA;\n",
              "      box-shadow: 0px 1px 2px rgba(60, 64, 67, 0.3), 0px 1px 3px 1px rgba(60, 64, 67, 0.15);\n",
              "      fill: #174EA6;\n",
              "    }\n",
              "\n",
              "    [theme=dark] .colab-df-convert {\n",
              "      background-color: #3B4455;\n",
              "      fill: #D2E3FC;\n",
              "    }\n",
              "\n",
              "    [theme=dark] .colab-df-convert:hover {\n",
              "      background-color: #434B5C;\n",
              "      box-shadow: 0px 1px 3px 1px rgba(0, 0, 0, 0.15);\n",
              "      filter: drop-shadow(0px 1px 2px rgba(0, 0, 0, 0.3));\n",
              "      fill: #FFFFFF;\n",
              "    }\n",
              "  </style>\n",
              "\n",
              "      <script>\n",
              "        const buttonEl =\n",
              "          document.querySelector('#df-02a15103-7452-4e45-90cd-f84646a9fb15 button.colab-df-convert');\n",
              "        buttonEl.style.display =\n",
              "          google.colab.kernel.accessAllowed ? 'block' : 'none';\n",
              "\n",
              "        async function convertToInteractive(key) {\n",
              "          const element = document.querySelector('#df-02a15103-7452-4e45-90cd-f84646a9fb15');\n",
              "          const dataTable =\n",
              "            await google.colab.kernel.invokeFunction('convertToInteractive',\n",
              "                                                     [key], {});\n",
              "          if (!dataTable) return;\n",
              "\n",
              "          const docLinkHtml = 'Like what you see? Visit the ' +\n",
              "            '<a target=\"_blank\" href=https://colab.research.google.com/notebooks/data_table.ipynb>data table notebook</a>'\n",
              "            + ' to learn more about interactive tables.';\n",
              "          element.innerHTML = '';\n",
              "          dataTable['output_type'] = 'display_data';\n",
              "          await google.colab.output.renderOutput(dataTable, element);\n",
              "          const docLink = document.createElement('div');\n",
              "          docLink.innerHTML = docLinkHtml;\n",
              "          element.appendChild(docLink);\n",
              "        }\n",
              "      </script>\n",
              "    </div>\n",
              "  </div>\n",
              "  "
            ],
            "text/plain": [
              "            X1         X2         X3        X4         X5  X6         X7\n",
              "0    -0.546168  -0.460781  47.063305  1.611370 -65.882137   0 -16.672865\n",
              "1     3.074317  -2.836000  49.396649  0.261998 -66.570716   0  -6.664599\n",
              "2    -1.485531 -13.102537  42.367991  3.991558 -67.108014   8 -30.790962\n",
              "3     6.907396  -0.308967  57.228787  0.256771 -66.181266   5  -0.726072\n",
              "4     1.916788   3.460290  51.703375  2.463790 -65.143663   5   8.131680\n",
              "...        ...        ...        ...       ...        ...  ..        ...\n",
              "1037  5.375810   6.937947  55.810467  1.698025 -65.819509   8  16.304176\n",
              "1038  0.619207  -1.925819  48.168606  1.357223 -65.385243   8  -4.525675\n",
              "1039  4.548172   2.886253  47.775525  1.278439 -56.312543   8   6.782694\n",
              "1040  1.806045  -3.015213  48.352707  4.627906 -57.722688   5  -7.085751\n",
              "1041  6.002320   5.760220  41.926049  3.562797 -81.111346   8  13.536516\n",
              "\n",
              "[1042 rows x 7 columns]"
            ]
          },
          "metadata": {},
          "execution_count": 22
        }
      ]
    },
    {
      "cell_type": "code",
      "source": [
        "# Treinando o modelo com os conjuntos de treino\n",
        "\n",
        "lin_reg = LinearRegression()\n",
        "\n",
        "model = lin_reg.fit(X_train, y_train)\n"
      ],
      "metadata": {
        "id": "ZK77O9cCsw7A"
      },
      "execution_count": 23,
      "outputs": []
    },
    {
      "cell_type": "code",
      "metadata": {
        "colab": {
          "base_uri": "https://localhost:8080/"
        },
        "id": "S4z9XZJGEKa4",
        "outputId": "0b83bb3d-47be-4d1f-b495-f35daa7e7c52"
      },
      "source": [
        "#Verificando o resultado\n",
        "\n",
        "r2_train = model.score(X_train, y_train)\n",
        "\n",
        "r2_test = model.score(X_test, y_test)\n",
        "\n",
        "print('R2 no set de treino: %.2f' % r2_train)\n",
        "print('R2 no set de teste: %.2f' % r2_test)\n",
        "\n",
        "# nao funcinou o de teste pq tem valores nulos na base"
      ],
      "execution_count": 24,
      "outputs": [
        {
          "output_type": "stream",
          "name": "stdout",
          "text": [
            "R2 no set de treino: 0.33\n",
            "R2 no set de teste: 0.25\n"
          ]
        }
      ]
    },
    {
      "cell_type": "code",
      "metadata": {
        "id": "rhp3CKfoEPU1"
      },
      "source": [
        "# Gerando as previsões\n",
        "\n",
        "y_pred = model.predict(X_test)\n",
        "\n",
        "# Obtendo os resíduos\n",
        "residuals = y_test - y_pred\n",
        "\n"
      ],
      "execution_count": 25,
      "outputs": []
    },
    {
      "cell_type": "code",
      "source": [
        "# Plotando o valor previsto x valor real, a relação entre os dois deve ser linear\n",
        "# Para isso utilizaremos a biblioteca matplotlib\n",
        "import matplotlib.pyplot as plt\n",
        "%matplotlib inline\n",
        "ax = plt.scatter(y_pred, y_test)\n",
        "ax.figure.set_size_inches(12, 6)\n",
        "plt.title('Previsão x Real', fontdict={'fontsize': 16})\n",
        "plt.xlabel('target - Previsão', fontdict={'fontsize': 16})\n",
        "plt.ylabel('target - Real', fontdict={'fontsize': 16})\n",
        "ax\n",
        "\n",
        "# Importando o módulo metrics para as avaliações do modelo\n",
        "import sklearn.metrics as metrics\n",
        "# Mostrando o valor do R²\n",
        "print('R² =', metrics.r2_score(y_true=y_test, y_pred=y_pred)) # nao funcinou o de teste pq tem valores nulos na base"
      ],
      "metadata": {
        "colab": {
          "base_uri": "https://localhost:8080/",
          "height": 428
        },
        "id": "DSLnEsqMvWYl",
        "outputId": "755a6e45-d125-4236-f422-30099fd7c9ce"
      },
      "execution_count": 26,
      "outputs": [
        {
          "output_type": "stream",
          "name": "stdout",
          "text": [
            "R² = 0.2483156335378619\n"
          ]
        },
        {
          "output_type": "display_data",
          "data": {
            "image/png": "[encoded data removed]",
            "text/plain": [
              "<Figure size 864x432 with 1 Axes>"
            ]
          },
          "metadata": {
            "needs_background": "light"
          }
        }
      ]
    },
    {
      "cell_type": "code",
      "metadata": {
        "colab": {
          "base_uri": "https://localhost:8080/",
          "height": 428
        },
        "id": "e6l0gTlpbz3C",
        "outputId": "997a5232-30f4-43b0-99df-a6d31bafa794"
      },
      "source": [
        "ax = plt.scatter(x=y_pred, y=residuals)\n",
        "ax.figure.set_size_inches(12, 6)\n",
        "plt.title('Previsão x Resíduos', fontdict={'fontsize': 16})\n",
        "plt.xlabel('target - Previsão', fontdict={'fontsize': 16})\n",
        "plt.ylabel('Resíduos', fontdict={'fontsize': 16})\n",
        "ax"
      ],
      "execution_count": 27,
      "outputs": [
        {
          "output_type": "execute_result",
          "data": {
            "text/plain": [
              "<matplotlib.collections.PathCollection at 0x7f8b9779de10>"
            ]
          },
          "metadata": {},
          "execution_count": 27
        },
        {
          "output_type": "display_data",
          "data": {
            "image/png": "[encoded data removed]",
            "text/plain": [
              "<Figure size 864x432 with 1 Axes>"
            ]
          },
          "metadata": {
            "needs_background": "light"
          }
        }
      ]
    },
    {
      "cell_type": "markdown",
      "metadata": {
        "id": "6pI1f-IqEeel"
      },
      "source": [
        "## 4 - Performance do Modelo\n",
        "\n",
        "\n",
        "Nesta etapa, que será a última, avaliaremos o modelo de regressão e explicar os conceitos de avaliação.\n",
        "\n",
        "Primeiro, vamos olhar o Intercepto e os Coeficientes da Regressão."
      ]
    },
    {
      "cell_type": "code",
      "metadata": {
        "colab": {
          "base_uri": "https://localhost:8080/"
        },
        "id": "E1djp5KhEg-D",
        "outputId": "0804b464-319a-4058-f814-2a7cd9939c2d"
      },
      "source": [
        "print('Intercepto:', model.intercept_)"
      ],
      "execution_count": 28,
      "outputs": [
        {
          "output_type": "stream",
          "name": "stdout",
          "text": [
            "Intercepto: 1012.5677199538995\n"
          ]
        }
      ]
    },
    {
      "cell_type": "code",
      "metadata": {
        "colab": {
          "base_uri": "https://localhost:8080/",
          "height": 269
        },
        "id": "d0D1ujqCEnEI",
        "outputId": "7991db38-69e4-47e2-97e3-d3c4f2d653c1"
      },
      "source": [
        "coeff_df = pd.DataFrame(model.coef_,X_train.columns,columns=['Coefficient'])\n",
        "coeff_df\n"
      ],
      "execution_count": 29,
      "outputs": [
        {
          "output_type": "execute_result",
          "data": {
            "text/html": [
              "\n",
              "  <div id=\"df-6a2c3fd2-ccad-4ab8-ba5c-c56576d51806\">\n",
              "    <div class=\"colab-df-container\">\n",
              "      <div>\n",
              "<style scoped>\n",
              "    .dataframe tbody tr th:only-of-type {\n",
              "        vertical-align: middle;\n",
              "    }\n",
              "\n",
              "    .dataframe tbody tr th {\n",
              "        vertical-align: top;\n",
              "    }\n",
              "\n",
              "    .dataframe thead th {\n",
              "        text-align: right;\n",
              "    }\n",
              "</style>\n",
              "<table border=\"1\" class=\"dataframe\">\n",
              "  <thead>\n",
              "    <tr style=\"text-align: right;\">\n",
              "      <th></th>\n",
              "      <th>Coefficient</th>\n",
              "    </tr>\n",
              "  </thead>\n",
              "  <tbody>\n",
              "    <tr>\n",
              "      <th>X1</th>\n",
              "      <td>37.265795</td>\n",
              "    </tr>\n",
              "    <tr>\n",
              "      <th>X2</th>\n",
              "      <td>155.250817</td>\n",
              "    </tr>\n",
              "    <tr>\n",
              "      <th>X3</th>\n",
              "      <td>0.156002</td>\n",
              "    </tr>\n",
              "    <tr>\n",
              "      <th>X4</th>\n",
              "      <td>-8.979599</td>\n",
              "    </tr>\n",
              "    <tr>\n",
              "      <th>X5</th>\n",
              "      <td>-4.385056</td>\n",
              "    </tr>\n",
              "    <tr>\n",
              "      <th>X6</th>\n",
              "      <td>10.707320</td>\n",
              "    </tr>\n",
              "    <tr>\n",
              "      <th>X7</th>\n",
              "      <td>0.428105</td>\n",
              "    </tr>\n",
              "  </tbody>\n",
              "</table>\n",
              "</div>\n",
              "      <button class=\"colab-df-convert\" onclick=\"convertToInteractive('df-6a2c3fd2-ccad-4ab8-ba5c-c56576d51806')\"\n",
              "              title=\"Convert this dataframe to an interactive table.\"\n",
              "              style=\"display:none;\">\n",
              "        \n",
              "  <svg xmlns=\"http://www.w3.org/2000/svg\" height=\"24px\"viewBox=\"0 0 24 24\"\n",
              "       width=\"24px\">\n",
              "    <path d=\"M0 0h24v24H0V0z\" fill=\"none\"/>\n",
              "    <path d=\"M18.56 5.44l.94 2.06.94-2.06 2.06-.94-2.06-.94-.94-2.06-.94 2.06-2.06.94zm-11 1L8.5 8.5l.94-2.06 2.06-.94-2.06-.94L8.5 2.5l-.94 2.06-2.06.94zm10 10l.94 2.06.94-2.06 2.06-.94-2.06-.94-.94-2.06-.94 2.06-2.06.94z\"/><path d=\"M17.41 7.96l-1.37-1.37c-.4-.4-.92-.59-1.43-.59-.52 0-1.04.2-1.43.59L10.3 9.45l-7.72 7.72c-.78.78-.78 2.05 0 2.83L4 21.41c.39.39.9.59 1.41.59.51 0 1.02-.2 1.41-.59l7.78-7.78 2.81-2.81c.8-.78.8-2.07 0-2.86zM5.41 20L4 18.59l7.72-7.72 1.47 1.35L5.41 20z\"/>\n",
              "  </svg>\n",
              "      </button>\n",
              "      \n",
              "  <style>\n",
              "    .colab-df-container {\n",
              "      display:flex;\n",
              "      flex-wrap:wrap;\n",
              "      gap: 12px;\n",
              "    }\n",
              "\n",
              "    .colab-df-convert {\n",
              "      background-color: #E8F0FE;\n",
              "      border: none;\n",
              "      border-radius: 50%;\n",
              "      cursor: pointer;\n",
              "      display: none;\n",
              "      fill: #1967D2;\n",
              "      height: 32px;\n",
              "      padding: 0 0 0 0;\n",
              "      width: 32px;\n",
              "    }\n",
              "\n",
              "    .colab-df-convert:hover {\n",
              "      background-color: #E2EBFA;\n",
              "      box-shadow: 0px 1px 2px rgba(60, 64, 67, 0.3), 0px 1px 3px 1px rgba(60, 64, 67, 0.15);\n",
              "      fill: #174EA6;\n",
              "    }\n",
              "\n",
              "    [theme=dark] .colab-df-convert {\n",
              "      background-color: #3B4455;\n",
              "      fill: #D2E3FC;\n",
              "    }\n",
              "\n",
              "    [theme=dark] .colab-df-convert:hover {\n",
              "      background-color: #434B5C;\n",
              "      box-shadow: 0px 1px 3px 1px rgba(0, 0, 0, 0.15);\n",
              "      filter: drop-shadow(0px 1px 2px rgba(0, 0, 0, 0.3));\n",
              "      fill: #FFFFFF;\n",
              "    }\n",
              "  </style>\n",
              "\n",
              "      <script>\n",
              "        const buttonEl =\n",
              "          document.querySelector('#df-6a2c3fd2-ccad-4ab8-ba5c-c56576d51806 button.colab-df-convert');\n",
              "        buttonEl.style.display =\n",
              "          google.colab.kernel.accessAllowed ? 'block' : 'none';\n",
              "\n",
              "        async function convertToInteractive(key) {\n",
              "          const element = document.querySelector('#df-6a2c3fd2-ccad-4ab8-ba5c-c56576d51806');\n",
              "          const dataTable =\n",
              "            await google.colab.kernel.invokeFunction('convertToInteractive',\n",
              "                                                     [key], {});\n",
              "          if (!dataTable) return;\n",
              "\n",
              "          const docLinkHtml = 'Like what you see? Visit the ' +\n",
              "            '<a target=\"_blank\" href=https://colab.research.google.com/notebooks/data_table.ipynb>data table notebook</a>'\n",
              "            + ' to learn more about interactive tables.';\n",
              "          element.innerHTML = '';\n",
              "          dataTable['output_type'] = 'display_data';\n",
              "          await google.colab.output.renderOutput(dataTable, element);\n",
              "          const docLink = document.createElement('div');\n",
              "          docLink.innerHTML = docLinkHtml;\n",
              "          element.appendChild(docLink);\n",
              "        }\n",
              "      </script>\n",
              "    </div>\n",
              "  </div>\n",
              "  "
            ],
            "text/plain": [
              "    Coefficient\n",
              "X1    37.265795\n",
              "X2   155.250817\n",
              "X3     0.156002\n",
              "X4    -8.979599\n",
              "X5    -4.385056\n",
              "X6    10.707320\n",
              "X7     0.428105"
            ]
          },
          "metadata": {},
          "execution_count": 29
        }
      ]
    },
    {
      "cell_type": "markdown",
      "metadata": {
        "id": "uAPaR2uWE044"
      },
      "source": [
        "O Intercepto representa o valor de b0 da equação da regressão linear.\n",
        "\n",
        " O valor do intercepto é a previsão do modelo quando o valor de X é zero.\n",
        "\n",
        "O Coeficiente, neste caso, os coeficientes representam os “pesos” das variáveis nos modelos, neste caso, na equação os identificamos como os b1, b2, b3…bn.\n",
        "\n",
        "Com as informações dos “pesos” da sua regressão você pode avaliar quais variáveis afetam o seu modelo, podendo assim aumentar sua eficácia. Outra forma de verificar isso é através o teste de p-valor.\n",
        "\n",
        " meu exemplo foi: O significado de cada valor é previsão da adição de cada valor dos coeficientes quando o valor de x é aumentado em um. Exemplo, Quando X aumenta em 1 é adicionado o valor de 4.007274 no coeficiente da REGIÃO sobre o valor a ser previsto."
      ]
    },
    {
      "cell_type": "markdown",
      "metadata": {
        "id": "_Dt957rnFRyF"
      },
      "source": [
        "**Olhando para os Erros**\n",
        "\n",
        "Uma forma de saber a performance da Regressão Linear é olharmos para nossos erros! Pois é errando que se aprende.\n",
        "\n",
        "Para isso a biblioteca sklearn nos oferece uma função muito útil que resultado na impressão das principais métricas: MAE, MSE e RMSE. \n",
        "\n",
        "Vamos olhar os valores dessas métricas aplicadas ao modelo e depois discutiremos mais.\n",
        "\n",
        "- **Mean Absolute Error (MAE)** é a média do valor absoluto dos erros.\n",
        "\n",
        "- **Erro Quadrático Médio (MSE)** é a média dos erros quadráticos\n",
        "\n",
        "- **Erro médio quadrático da raiz (RMSE)** é a raiz quadrada da média dos erros quadráticos\n"
      ]
    },
    {
      "cell_type": "code",
      "metadata": {
        "id": "PQkpAlTmErRG"
      },
      "source": [
        "y_pred = model.predict(X_test)\n",
        "\n"
      ],
      "execution_count": 30,
      "outputs": []
    },
    {
      "cell_type": "code",
      "metadata": {
        "colab": {
          "base_uri": "https://localhost:8080/"
        },
        "id": "R4wHn1txcETQ",
        "outputId": "44426ffc-300a-4d78-8188-8c34df893e1e"
      },
      "source": [
        "print('MAE:', metrics.mean_absolute_error(y_test, y_pred))\n",
        "print('MSE:', metrics.mean_squared_error(y_test, y_pred))\n",
        "print('RMSE:', np.sqrt(metrics.mean_squared_error(y_test, y_pred)))"
      ],
      "execution_count": 31,
      "outputs": [
        {
          "output_type": "stream",
          "name": "stdout",
          "text": [
            "MAE: 782.2334033611826\n",
            "MSE: 827255.6670894623\n",
            "RMSE: 909.5359625047612\n"
          ]
        }
      ]
    },
    {
      "cell_type": "markdown",
      "metadata": {
        "id": "H5pq6N0SFqwC"
      },
      "source": [
        "Com o MAE podemos ver que nosso algoritmo erra a PROEFICIENCIA_MEDIA em 31.85 pontos.\n",
        "\n",
        "O RMSE têm o benefício em penalizar os erros de maior magnitude. Esta métrica pode não descrever sozinha o erro médio. Mas a diferença das métricas pode auxiliar no diagnóstico de predições muito ruins ou outliers. Se o RMSE ficar muito maior que MAE então esta suposição deve ser verificada. É o que acontece com o modelo :(\n",
        "\n",
        "  \n",
        "Neste caso teríamos que avaliar quais variáveis penalizam nosso modelo, exclui-las ou transforma-las em combinação com outras variáveis. Além de verificar se há outliers ou se possuímos poucos dados para o modelo."
      ]
    },
    {
      "cell_type": "markdown",
      "metadata": {
        "id": "5wj7aafXGFXd"
      },
      "source": [
        "**Precisamos da regressão para responder se e como um fenômeno influencia o outro ou como várias variáveis ​​estão relacionadas. A regressão também é útil quando você deseja prever uma resposta usando um novo conjunto de preditores.**"
      ]
    },
    {
      "cell_type": "markdown",
      "metadata": {
        "id": "iQwZNNL0I1bM"
      },
      "source": [
        "## Abordagem mais rápida: "
      ]
    },
    {
      "cell_type": "code",
      "metadata": {
        "id": "OCC0F3eBI1QP",
        "colab": {
          "base_uri": "https://localhost:8080/"
        },
        "outputId": "13bd32cc-8266-4259-9eb1-67e28223b83f"
      },
      "source": [
        "from sklearn.datasets import load_boston # para carregar os dados\n",
        "from sklearn.linear_model import LinearRegression # importa o modelo\n",
        "from sklearn.model_selection import train_test_split\n",
        "\n",
        "# carrega os dados\n",
        "# X matriz com as variaveis \n",
        "# Y vetor com as respostas\n",
        "\n",
        "X_train = df_treino.drop(['target'], axis = 1)\n",
        "y_train = df_treino.target\n",
        "\n",
        "X_test = df_teste.drop(['target'], axis = 1)\n",
        "y_test = df_teste.target\n",
        "\n",
        "regr = LinearRegression()\n",
        "regr.fit(X_train, y_train)\n",
        "\n",
        "r2_train = regr.score(X_train, y_train)\n",
        "r2_test = regr.score(X_test, y_test)\n",
        "print('R2 no set de treino: %.2f' % r2_train)\n",
        "print('R2 no set de teste: %.2f' % r2_test)"
      ],
      "execution_count": 32,
      "outputs": [
        {
          "output_type": "stream",
          "name": "stdout",
          "text": [
            "R2 no set de treino: 0.33\n",
            "R2 no set de teste: 0.25\n"
          ]
        }
      ]
    },
    {
      "cell_type": "code",
      "source": [
        ""
      ],
      "metadata": {
        "id": "AjrN9UmikXQL"
      },
      "execution_count": null,
      "outputs": []
    },
    {
      "cell_type": "code",
      "source": [
        ""
      ],
      "metadata": {
        "id": "fQGXgM7hkWXu"
      },
      "execution_count": null,
      "outputs": []
    },
    {
      "cell_type": "code",
      "metadata": {
        "id": "XrJ9DodwKssG"
      },
      "source": [
        ""
      ],
      "execution_count": null,
      "outputs": []
    }
  ]
}