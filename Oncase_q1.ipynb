{
  "nbformat": 4,
  "nbformat_minor": 0,
  "metadata": {
    "colab": {
      "name": "Oncase q1.ipynb",
      "provenance": [],
      "authorship_tag": "ABX9TyM720+H/LrsANmbCOALADtT",
      "include_colab_link": true
    },
    "kernelspec": {
      "name": "python3",
      "display_name": "Python 3"
    },
    "language_info": {
      "name": "python"
    }
  },
  "cells": [
    {
      "cell_type": "markdown",
      "metadata": {
        "id": "view-in-github",
        "colab_type": "text"
      },
      "source": [
        "<a href=\"https://colab.research.google.com/github/pedropvsn/Oncase/blob/main/Oncase_q1.ipynb\" target=\"_parent\"><img src=\"https://colab.research.google.com/assets/colab-badge.svg\" alt=\"Open In Colab\"/></a>"
      ]
    },
    {
      "cell_type": "code",
      "execution_count": 27,
      "metadata": {
        "id": "H8zp9lrfl1KK"
      },
      "outputs": [],
      "source": [
        "#Importando as bibliotecas que normalmente são utilizadas em ciencia de dados\n",
        "import statsmodels.api as sm\n",
        "import pandas as pd  \n",
        "import numpy as np  \n",
        "import matplotlib.pyplot as plt  \n",
        "import seaborn as sns\n",
        "\n",
        "from sklearn.model_selection import train_test_split \n",
        "from sklearn.linear_model import LinearRegression\n",
        "from sklearn.metrics import roc_auc_score\n",
        "from sklearn import metrics\n",
        "import warnings\n",
        "warnings.filterwarnings('ignore')\n",
        "%matplotlib inline"
      ]
    },
    {
      "cell_type": "markdown",
      "metadata": {
        "id": "5Pc2Emr3FFFc"
      },
      "source": [
        "# **BASES DE DADOS**"
      ]
    },
    {
      "cell_type": "code",
      "metadata": {
        "colab": {
          "base_uri": "https://localhost:8080/"
        },
        "id": "b1N8xOHlFEgV",
        "outputId": "50dc4a8d-2e03-4570-e1a3-fb5ed4cb6a51"
      },
      "source": [
        "from google.colab import drive\n",
        "drive.mount('/content/drive')"
      ],
      "execution_count": 28,
      "outputs": [
        {
          "output_type": "stream",
          "name": "stdout",
          "text": [
            "Drive already mounted at /content/drive; to attempt to forcibly remount, call drive.mount(\"/content/drive\", force_remount=True).\n"
          ]
        }
      ]
    },
    {
      "cell_type": "code",
      "metadata": {
        "colab": {
          "base_uri": "https://localhost:8080/",
          "height": 337
        },
        "id": "XncVVkC9FEcL",
        "outputId": "adc793e9-19ce-410e-dde1-185c11fbe7ac"
      },
      "source": [
        "df_receita = pd.read_excel(\"/content/drive/My Drive/Colab/Oncase q1/Receita_json_Oficial.xlsx\")\n",
        "\n",
        "df_receita.head(5) ## percebe-se a presença de dados nulos \"NaN\""
      ],
      "execution_count": 29,
      "outputs": [
        {
          "output_type": "execute_result",
          "data": {
            "text/html": [
              "\n",
              "  <div id=\"df-d825a6e3-a90b-4c59-888b-a9c73d07b461\">\n",
              "    <div class=\"colab-df-container\">\n",
              "      <div>\n",
              "<style scoped>\n",
              "    .dataframe tbody tr th:only-of-type {\n",
              "        vertical-align: middle;\n",
              "    }\n",
              "\n",
              "    .dataframe tbody tr th {\n",
              "        vertical-align: top;\n",
              "    }\n",
              "\n",
              "    .dataframe thead th {\n",
              "        text-align: right;\n",
              "    }\n",
              "</style>\n",
              "<table border=\"1\" class=\"dataframe\">\n",
              "  <thead>\n",
              "    <tr style=\"text-align: right;\">\n",
              "      <th></th>\n",
              "      <th>Column1.fat</th>\n",
              "      <th>Column1.date</th>\n",
              "      <th>Column1.categories</th>\n",
              "      <th>Column1.calories</th>\n",
              "      <th>Column1.protein</th>\n",
              "      <th>Column1.rating</th>\n",
              "      <th>Column1.title</th>\n",
              "      <th>Column1.sodium</th>\n",
              "    </tr>\n",
              "  </thead>\n",
              "  <tbody>\n",
              "    <tr>\n",
              "      <th>0</th>\n",
              "      <td>7.0</td>\n",
              "      <td>2006-09-01T04:00:00.000Z</td>\n",
              "      <td>Sandwich</td>\n",
              "      <td>426.0</td>\n",
              "      <td>30.0</td>\n",
              "      <td>2.5</td>\n",
              "      <td>Lentil, Apple, and Turkey Wrap</td>\n",
              "      <td>559.0</td>\n",
              "    </tr>\n",
              "    <tr>\n",
              "      <th>1</th>\n",
              "      <td>7.0</td>\n",
              "      <td>2006-09-01T04:00:00.000Z</td>\n",
              "      <td>Bean</td>\n",
              "      <td>426.0</td>\n",
              "      <td>30.0</td>\n",
              "      <td>2.5</td>\n",
              "      <td>Lentil, Apple, and Turkey Wrap</td>\n",
              "      <td>559.0</td>\n",
              "    </tr>\n",
              "    <tr>\n",
              "      <th>2</th>\n",
              "      <td>7.0</td>\n",
              "      <td>2006-09-01T04:00:00.000Z</td>\n",
              "      <td>Fruit</td>\n",
              "      <td>426.0</td>\n",
              "      <td>30.0</td>\n",
              "      <td>2.5</td>\n",
              "      <td>Lentil, Apple, and Turkey Wrap</td>\n",
              "      <td>559.0</td>\n",
              "    </tr>\n",
              "    <tr>\n",
              "      <th>3</th>\n",
              "      <td>7.0</td>\n",
              "      <td>2006-09-01T04:00:00.000Z</td>\n",
              "      <td>Tomato</td>\n",
              "      <td>426.0</td>\n",
              "      <td>30.0</td>\n",
              "      <td>2.5</td>\n",
              "      <td>Lentil, Apple, and Turkey Wrap</td>\n",
              "      <td>559.0</td>\n",
              "    </tr>\n",
              "    <tr>\n",
              "      <th>4</th>\n",
              "      <td>7.0</td>\n",
              "      <td>2006-09-01T04:00:00.000Z</td>\n",
              "      <td>turkey</td>\n",
              "      <td>426.0</td>\n",
              "      <td>30.0</td>\n",
              "      <td>2.5</td>\n",
              "      <td>Lentil, Apple, and Turkey Wrap</td>\n",
              "      <td>559.0</td>\n",
              "    </tr>\n",
              "  </tbody>\n",
              "</table>\n",
              "</div>\n",
              "      <button class=\"colab-df-convert\" onclick=\"convertToInteractive('df-d825a6e3-a90b-4c59-888b-a9c73d07b461')\"\n",
              "              title=\"Convert this dataframe to an interactive table.\"\n",
              "              style=\"display:none;\">\n",
              "        \n",
              "  <svg xmlns=\"http://www.w3.org/2000/svg\" height=\"24px\"viewBox=\"0 0 24 24\"\n",
              "       width=\"24px\">\n",
              "    <path d=\"M0 0h24v24H0V0z\" fill=\"none\"/>\n",
              "    <path d=\"M18.56 5.44l.94 2.06.94-2.06 2.06-.94-2.06-.94-.94-2.06-.94 2.06-2.06.94zm-11 1L8.5 8.5l.94-2.06 2.06-.94-2.06-.94L8.5 2.5l-.94 2.06-2.06.94zm10 10l.94 2.06.94-2.06 2.06-.94-2.06-.94-.94-2.06-.94 2.06-2.06.94z\"/><path d=\"M17.41 7.96l-1.37-1.37c-.4-.4-.92-.59-1.43-.59-.52 0-1.04.2-1.43.59L10.3 9.45l-7.72 7.72c-.78.78-.78 2.05 0 2.83L4 21.41c.39.39.9.59 1.41.59.51 0 1.02-.2 1.41-.59l7.78-7.78 2.81-2.81c.8-.78.8-2.07 0-2.86zM5.41 20L4 18.59l7.72-7.72 1.47 1.35L5.41 20z\"/>\n",
              "  </svg>\n",
              "      </button>\n",
              "      \n",
              "  <style>\n",
              "    .colab-df-container {\n",
              "      display:flex;\n",
              "      flex-wrap:wrap;\n",
              "      gap: 12px;\n",
              "    }\n",
              "\n",
              "    .colab-df-convert {\n",
              "      background-color: #E8F0FE;\n",
              "      border: none;\n",
              "      border-radius: 50%;\n",
              "      cursor: pointer;\n",
              "      display: none;\n",
              "      fill: #1967D2;\n",
              "      height: 32px;\n",
              "      padding: 0 0 0 0;\n",
              "      width: 32px;\n",
              "    }\n",
              "\n",
              "    .colab-df-convert:hover {\n",
              "      background-color: #E2EBFA;\n",
              "      box-shadow: 0px 1px 2px rgba(60, 64, 67, 0.3), 0px 1px 3px 1px rgba(60, 64, 67, 0.15);\n",
              "      fill: #174EA6;\n",
              "    }\n",
              "\n",
              "    [theme=dark] .colab-df-convert {\n",
              "      background-color: #3B4455;\n",
              "      fill: #D2E3FC;\n",
              "    }\n",
              "\n",
              "    [theme=dark] .colab-df-convert:hover {\n",
              "      background-color: #434B5C;\n",
              "      box-shadow: 0px 1px 3px 1px rgba(0, 0, 0, 0.15);\n",
              "      filter: drop-shadow(0px 1px 2px rgba(0, 0, 0, 0.3));\n",
              "      fill: #FFFFFF;\n",
              "    }\n",
              "  </style>\n",
              "\n",
              "      <script>\n",
              "        const buttonEl =\n",
              "          document.querySelector('#df-d825a6e3-a90b-4c59-888b-a9c73d07b461 button.colab-df-convert');\n",
              "        buttonEl.style.display =\n",
              "          google.colab.kernel.accessAllowed ? 'block' : 'none';\n",
              "\n",
              "        async function convertToInteractive(key) {\n",
              "          const element = document.querySelector('#df-d825a6e3-a90b-4c59-888b-a9c73d07b461');\n",
              "          const dataTable =\n",
              "            await google.colab.kernel.invokeFunction('convertToInteractive',\n",
              "                                                     [key], {});\n",
              "          if (!dataTable) return;\n",
              "\n",
              "          const docLinkHtml = 'Like what you see? Visit the ' +\n",
              "            '<a target=\"_blank\" href=https://colab.research.google.com/notebooks/data_table.ipynb>data table notebook</a>'\n",
              "            + ' to learn more about interactive tables.';\n",
              "          element.innerHTML = '';\n",
              "          dataTable['output_type'] = 'display_data';\n",
              "          await google.colab.output.renderOutput(dataTable, element);\n",
              "          const docLink = document.createElement('div');\n",
              "          docLink.innerHTML = docLinkHtml;\n",
              "          element.appendChild(docLink);\n",
              "        }\n",
              "      </script>\n",
              "    </div>\n",
              "  </div>\n",
              "  "
            ],
            "text/plain": [
              "   Column1.fat  ... Column1.sodium\n",
              "0          7.0  ...          559.0\n",
              "1          7.0  ...          559.0\n",
              "2          7.0  ...          559.0\n",
              "3          7.0  ...          559.0\n",
              "4          7.0  ...          559.0\n",
              "\n",
              "[5 rows x 8 columns]"
            ]
          },
          "metadata": {},
          "execution_count": 29
        }
      ]
    },
    {
      "cell_type": "code",
      "source": [
        "df_receita.shape"
      ],
      "metadata": {
        "colab": {
          "base_uri": "https://localhost:8080/"
        },
        "id": "MvbCMuQ_mJSR",
        "outputId": "47e8a8a6-fb1f-4d0f-8add-69a8ee20591f"
      },
      "execution_count": 30,
      "outputs": [
        {
          "output_type": "execute_result",
          "data": {
            "text/plain": [
              "(244663, 8)"
            ]
          },
          "metadata": {},
          "execution_count": 30
        }
      ]
    },
    {
      "cell_type": "markdown",
      "source": [
        "Renomear variáveis"
      ],
      "metadata": {
        "id": "AkfOtmS51fKB"
      }
    },
    {
      "cell_type": "code",
      "source": [
        "df_receita.rename(columns={'Column1.fat': 'fat',\n",
        "                           'Column1.date': 'date',\n",
        "                           'Column1.categories': 'categories',\n",
        "                           'Column1.calories': 'calories',\n",
        "                           'Column1.protein': 'protein',\n",
        "                           'Column1.rating': 'rating',\n",
        "                           'Column1.title': 'title',\n",
        "                           'Column1.sodium': 'sodium'  }, inplace = True)"
      ],
      "metadata": {
        "id": "-YrI6u4w1km4"
      },
      "execution_count": 31,
      "outputs": []
    },
    {
      "cell_type": "markdown",
      "source": [
        "Validar se as células NaN foram excluídas"
      ],
      "metadata": {
        "id": "5GglxxPX8e6R"
      }
    },
    {
      "cell_type": "code",
      "source": [
        "df_receita.isnull().sum() #quantidade de nulos por coluna"
      ],
      "metadata": {
        "colab": {
          "base_uri": "https://localhost:8080/"
        },
        "id": "hrhHTjF9jaQv",
        "outputId": "32a1e243-2a27-4957-e2ea-a2bc3548d1a1"
      },
      "execution_count": 32,
      "outputs": [
        {
          "output_type": "execute_result",
          "data": {
            "text/plain": [
              "fat           51810\n",
              "date             19\n",
              "categories       78\n",
              "calories      51343\n",
              "protein       51622\n",
              "rating           30\n",
              "title            19\n",
              "sodium        51347\n",
              "dtype: int64"
            ]
          },
          "metadata": {},
          "execution_count": 32
        }
      ]
    },
    {
      "cell_type": "code",
      "source": [
        "df_receita.dropna(axis=0, inplace=True)"
      ],
      "metadata": {
        "id": "iqZPm6Tq9Nvc"
      },
      "execution_count": 34,
      "outputs": []
    },
    {
      "cell_type": "markdown",
      "source": [
        "## Tratando valores nulos da base Receita"
      ],
      "metadata": {
        "id": "L9trDBBun3yr"
      }
    },
    {
      "cell_type": "code",
      "source": [
        "df_receita.isnull().sum() #quantidade de nulos por coluna "
      ],
      "metadata": {
        "colab": {
          "base_uri": "https://localhost:8080/"
        },
        "id": "F31UgtJmlV8x",
        "outputId": "72342450-fc2a-4b11-a460-8e5432ed7431"
      },
      "execution_count": 35,
      "outputs": [
        {
          "output_type": "execute_result",
          "data": {
            "text/plain": [
              "fat           0\n",
              "date          0\n",
              "categories    0\n",
              "calories      0\n",
              "protein       0\n",
              "rating        0\n",
              "title         0\n",
              "sodium        0\n",
              "dtype: int64"
            ]
          },
          "metadata": {},
          "execution_count": 35
        }
      ]
    },
    {
      "cell_type": "markdown",
      "source": [
        "## Análise de Correlação"
      ],
      "metadata": {
        "id": "YZz2K1xLBlK6"
      }
    },
    {
      "cell_type": "code",
      "source": [
        "#matriz de correlação\n",
        "corr = df_receita.corr()\n",
        "corr"
      ],
      "metadata": {
        "colab": {
          "base_uri": "https://localhost:8080/",
          "height": 206
        },
        "id": "Tcp_ENLIhOmV",
        "outputId": "12481760-7962-457a-dca1-c2396ec5e6da"
      },
      "execution_count": 48,
      "outputs": [
        {
          "output_type": "execute_result",
          "data": {
            "text/html": [
              "\n",
              "  <div id=\"df-fcb4fcaf-d5d0-4a87-aeb0-422545f12981\">\n",
              "    <div class=\"colab-df-container\">\n",
              "      <div>\n",
              "<style scoped>\n",
              "    .dataframe tbody tr th:only-of-type {\n",
              "        vertical-align: middle;\n",
              "    }\n",
              "\n",
              "    .dataframe tbody tr th {\n",
              "        vertical-align: top;\n",
              "    }\n",
              "\n",
              "    .dataframe thead th {\n",
              "        text-align: right;\n",
              "    }\n",
              "</style>\n",
              "<table border=\"1\" class=\"dataframe\">\n",
              "  <thead>\n",
              "    <tr style=\"text-align: right;\">\n",
              "      <th></th>\n",
              "      <th>fat</th>\n",
              "      <th>calories</th>\n",
              "      <th>protein</th>\n",
              "      <th>rating</th>\n",
              "      <th>sodium</th>\n",
              "    </tr>\n",
              "  </thead>\n",
              "  <tbody>\n",
              "    <tr>\n",
              "      <th>fat</th>\n",
              "      <td>1.00e+00</td>\n",
              "      <td>9.97e-01</td>\n",
              "      <td>0.69</td>\n",
              "      <td>7.84e-03</td>\n",
              "      <td>9.88e-01</td>\n",
              "    </tr>\n",
              "    <tr>\n",
              "      <th>calories</th>\n",
              "      <td>9.97e-01</td>\n",
              "      <td>1.00e+00</td>\n",
              "      <td>0.71</td>\n",
              "      <td>8.44e-03</td>\n",
              "      <td>9.97e-01</td>\n",
              "    </tr>\n",
              "    <tr>\n",
              "      <th>protein</th>\n",
              "      <td>6.86e-01</td>\n",
              "      <td>7.12e-01</td>\n",
              "      <td>1.00</td>\n",
              "      <td>1.56e-02</td>\n",
              "      <td>7.10e-01</td>\n",
              "    </tr>\n",
              "    <tr>\n",
              "      <th>rating</th>\n",
              "      <td>7.84e-03</td>\n",
              "      <td>8.44e-03</td>\n",
              "      <td>0.02</td>\n",
              "      <td>1.00e+00</td>\n",
              "      <td>8.55e-03</td>\n",
              "    </tr>\n",
              "    <tr>\n",
              "      <th>sodium</th>\n",
              "      <td>9.88e-01</td>\n",
              "      <td>9.97e-01</td>\n",
              "      <td>0.71</td>\n",
              "      <td>8.55e-03</td>\n",
              "      <td>1.00e+00</td>\n",
              "    </tr>\n",
              "  </tbody>\n",
              "</table>\n",
              "</div>\n",
              "      <button class=\"colab-df-convert\" onclick=\"convertToInteractive('df-fcb4fcaf-d5d0-4a87-aeb0-422545f12981')\"\n",
              "              title=\"Convert this dataframe to an interactive table.\"\n",
              "              style=\"display:none;\">\n",
              "        \n",
              "  <svg xmlns=\"http://www.w3.org/2000/svg\" height=\"24px\"viewBox=\"0 0 24 24\"\n",
              "       width=\"24px\">\n",
              "    <path d=\"M0 0h24v24H0V0z\" fill=\"none\"/>\n",
              "    <path d=\"M18.56 5.44l.94 2.06.94-2.06 2.06-.94-2.06-.94-.94-2.06-.94 2.06-2.06.94zm-11 1L8.5 8.5l.94-2.06 2.06-.94-2.06-.94L8.5 2.5l-.94 2.06-2.06.94zm10 10l.94 2.06.94-2.06 2.06-.94-2.06-.94-.94-2.06-.94 2.06-2.06.94z\"/><path d=\"M17.41 7.96l-1.37-1.37c-.4-.4-.92-.59-1.43-.59-.52 0-1.04.2-1.43.59L10.3 9.45l-7.72 7.72c-.78.78-.78 2.05 0 2.83L4 21.41c.39.39.9.59 1.41.59.51 0 1.02-.2 1.41-.59l7.78-7.78 2.81-2.81c.8-.78.8-2.07 0-2.86zM5.41 20L4 18.59l7.72-7.72 1.47 1.35L5.41 20z\"/>\n",
              "  </svg>\n",
              "      </button>\n",
              "      \n",
              "  <style>\n",
              "    .colab-df-container {\n",
              "      display:flex;\n",
              "      flex-wrap:wrap;\n",
              "      gap: 12px;\n",
              "    }\n",
              "\n",
              "    .colab-df-convert {\n",
              "      background-color: #E8F0FE;\n",
              "      border: none;\n",
              "      border-radius: 50%;\n",
              "      cursor: pointer;\n",
              "      display: none;\n",
              "      fill: #1967D2;\n",
              "      height: 32px;\n",
              "      padding: 0 0 0 0;\n",
              "      width: 32px;\n",
              "    }\n",
              "\n",
              "    .colab-df-convert:hover {\n",
              "      background-color: #E2EBFA;\n",
              "      box-shadow: 0px 1px 2px rgba(60, 64, 67, 0.3), 0px 1px 3px 1px rgba(60, 64, 67, 0.15);\n",
              "      fill: #174EA6;\n",
              "    }\n",
              "\n",
              "    [theme=dark] .colab-df-convert {\n",
              "      background-color: #3B4455;\n",
              "      fill: #D2E3FC;\n",
              "    }\n",
              "\n",
              "    [theme=dark] .colab-df-convert:hover {\n",
              "      background-color: #434B5C;\n",
              "      box-shadow: 0px 1px 3px 1px rgba(0, 0, 0, 0.15);\n",
              "      filter: drop-shadow(0px 1px 2px rgba(0, 0, 0, 0.3));\n",
              "      fill: #FFFFFF;\n",
              "    }\n",
              "  </style>\n",
              "\n",
              "      <script>\n",
              "        const buttonEl =\n",
              "          document.querySelector('#df-fcb4fcaf-d5d0-4a87-aeb0-422545f12981 button.colab-df-convert');\n",
              "        buttonEl.style.display =\n",
              "          google.colab.kernel.accessAllowed ? 'block' : 'none';\n",
              "\n",
              "        async function convertToInteractive(key) {\n",
              "          const element = document.querySelector('#df-fcb4fcaf-d5d0-4a87-aeb0-422545f12981');\n",
              "          const dataTable =\n",
              "            await google.colab.kernel.invokeFunction('convertToInteractive',\n",
              "                                                     [key], {});\n",
              "          if (!dataTable) return;\n",
              "\n",
              "          const docLinkHtml = 'Like what you see? Visit the ' +\n",
              "            '<a target=\"_blank\" href=https://colab.research.google.com/notebooks/data_table.ipynb>data table notebook</a>'\n",
              "            + ' to learn more about interactive tables.';\n",
              "          element.innerHTML = '';\n",
              "          dataTable['output_type'] = 'display_data';\n",
              "          await google.colab.output.renderOutput(dataTable, element);\n",
              "          const docLink = document.createElement('div');\n",
              "          docLink.innerHTML = docLinkHtml;\n",
              "          element.appendChild(docLink);\n",
              "        }\n",
              "      </script>\n",
              "    </div>\n",
              "  </div>\n",
              "  "
            ],
            "text/plain": [
              "               fat  calories  protein    rating    sodium\n",
              "fat       1.00e+00  9.97e-01     0.69  7.84e-03  9.88e-01\n",
              "calories  9.97e-01  1.00e+00     0.71  8.44e-03  9.97e-01\n",
              "protein   6.86e-01  7.12e-01     1.00  1.56e-02  7.10e-01\n",
              "rating    7.84e-03  8.44e-03     0.02  1.00e+00  8.55e-03\n",
              "sodium    9.88e-01  9.97e-01     0.71  8.55e-03  1.00e+00"
            ]
          },
          "metadata": {},
          "execution_count": 48
        }
      ]
    },
    {
      "cell_type": "markdown",
      "source": [
        ""
      ],
      "metadata": {
        "id": "PDsJqampCPdd"
      }
    },
    {
      "cell_type": "code",
      "metadata": {
        "id": "bA_GoUW0FETN",
        "colab": {
          "base_uri": "https://localhost:8080/",
          "height": 324
        },
        "outputId": "075038aa-3330-4b2a-9af0-56ecc2832163"
      },
      "source": [
        "#Analisando a correlação graficamente\n",
        "\n",
        "f, ax = plt.subplots(figsize=(15, 5))\n",
        "\n",
        "sns.heatmap(corr, cmap = sns.color_palette(\"Blues\"), linewidths=.5, annot=True);"
      ],
      "execution_count": 37,
      "outputs": [
        {
          "output_type": "display_data",
          "data": {
            "image/png": "[encoded data removed]",
            "text/plain": [
              "<Figure size 1080x360 with 2 Axes>"
            ]
          },
          "metadata": {
            "needs_background": "light"
          }
        }
      ]
    },
    {
      "cell_type": "markdown",
      "source": [
        "Ao realizar uma análise de correlação verificamos que a variável rating, apresenta baixa relação com a a quantidade de gordura, calorias, proteína e sódium contido no prato."
      ],
      "metadata": {
        "id": "1YIsF04dCS8Z"
      }
    },
    {
      "cell_type": "markdown",
      "source": [
        "## Medidas descritivas da base"
      ],
      "metadata": {
        "id": "Rfew0MqsxyVN"
      }
    },
    {
      "cell_type": "code",
      "source": [
        "df_receita.describe()"
      ],
      "metadata": {
        "id": "4KSjBzIdwTn_",
        "colab": {
          "base_uri": "https://localhost:8080/",
          "height": 300
        },
        "outputId": "b1cee329-19f1-401c-ed6b-922a4a29eaa8"
      },
      "execution_count": 50,
      "outputs": [
        {
          "output_type": "execute_result",
          "data": {
            "text/html": [
              "\n",
              "  <div id=\"df-c90768b7-1311-42df-8f5c-e36812cde580\">\n",
              "    <div class=\"colab-df-container\">\n",
              "      <div>\n",
              "<style scoped>\n",
              "    .dataframe tbody tr th:only-of-type {\n",
              "        vertical-align: middle;\n",
              "    }\n",
              "\n",
              "    .dataframe tbody tr th {\n",
              "        vertical-align: top;\n",
              "    }\n",
              "\n",
              "    .dataframe thead th {\n",
              "        text-align: right;\n",
              "    }\n",
              "</style>\n",
              "<table border=\"1\" class=\"dataframe\">\n",
              "  <thead>\n",
              "    <tr style=\"text-align: right;\">\n",
              "      <th></th>\n",
              "      <th>fat</th>\n",
              "      <th>calories</th>\n",
              "      <th>protein</th>\n",
              "      <th>rating</th>\n",
              "      <th>sodium</th>\n",
              "    </tr>\n",
              "  </thead>\n",
              "  <tbody>\n",
              "    <tr>\n",
              "      <th>count</th>\n",
              "      <td>1.93e+05</td>\n",
              "      <td>1.93e+05</td>\n",
              "      <td>192780.00</td>\n",
              "      <td>192780.00</td>\n",
              "      <td>1.93e+05</td>\n",
              "    </tr>\n",
              "    <tr>\n",
              "      <th>mean</th>\n",
              "      <td>3.84e+02</td>\n",
              "      <td>7.00e+03</td>\n",
              "      <td>115.12</td>\n",
              "      <td>3.82</td>\n",
              "      <td>6.77e+03</td>\n",
              "    </tr>\n",
              "    <tr>\n",
              "      <th>std</th>\n",
              "      <td>2.11e+04</td>\n",
              "      <td>3.72e+05</td>\n",
              "      <td>4281.95</td>\n",
              "      <td>1.21</td>\n",
              "      <td>3.44e+05</td>\n",
              "    </tr>\n",
              "    <tr>\n",
              "      <th>min</th>\n",
              "      <td>0.00e+00</td>\n",
              "      <td>0.00e+00</td>\n",
              "      <td>0.00</td>\n",
              "      <td>0.00</td>\n",
              "      <td>0.00e+00</td>\n",
              "    </tr>\n",
              "    <tr>\n",
              "      <th>25%</th>\n",
              "      <td>8.00e+00</td>\n",
              "      <td>2.00e+02</td>\n",
              "      <td>3.00</td>\n",
              "      <td>3.75</td>\n",
              "      <td>7.80e+01</td>\n",
              "    </tr>\n",
              "    <tr>\n",
              "      <th>50%</th>\n",
              "      <td>1.70e+01</td>\n",
              "      <td>3.31e+02</td>\n",
              "      <td>8.00</td>\n",
              "      <td>4.38</td>\n",
              "      <td>2.78e+02</td>\n",
              "    </tr>\n",
              "    <tr>\n",
              "      <th>75%</th>\n",
              "      <td>3.20e+01</td>\n",
              "      <td>5.72e+02</td>\n",
              "      <td>24.00</td>\n",
              "      <td>4.38</td>\n",
              "      <td>6.77e+02</td>\n",
              "    </tr>\n",
              "    <tr>\n",
              "      <th>max</th>\n",
              "      <td>1.72e+06</td>\n",
              "      <td>3.01e+07</td>\n",
              "      <td>236489.00</td>\n",
              "      <td>5.00</td>\n",
              "      <td>2.77e+07</td>\n",
              "    </tr>\n",
              "  </tbody>\n",
              "</table>\n",
              "</div>\n",
              "      <button class=\"colab-df-convert\" onclick=\"convertToInteractive('df-c90768b7-1311-42df-8f5c-e36812cde580')\"\n",
              "              title=\"Convert this dataframe to an interactive table.\"\n",
              "              style=\"display:none;\">\n",
              "        \n",
              "  <svg xmlns=\"http://www.w3.org/2000/svg\" height=\"24px\"viewBox=\"0 0 24 24\"\n",
              "       width=\"24px\">\n",
              "    <path d=\"M0 0h24v24H0V0z\" fill=\"none\"/>\n",
              "    <path d=\"M18.56 5.44l.94 2.06.94-2.06 2.06-.94-2.06-.94-.94-2.06-.94 2.06-2.06.94zm-11 1L8.5 8.5l.94-2.06 2.06-.94-2.06-.94L8.5 2.5l-.94 2.06-2.06.94zm10 10l.94 2.06.94-2.06 2.06-.94-2.06-.94-.94-2.06-.94 2.06-2.06.94z\"/><path d=\"M17.41 7.96l-1.37-1.37c-.4-.4-.92-.59-1.43-.59-.52 0-1.04.2-1.43.59L10.3 9.45l-7.72 7.72c-.78.78-.78 2.05 0 2.83L4 21.41c.39.39.9.59 1.41.59.51 0 1.02-.2 1.41-.59l7.78-7.78 2.81-2.81c.8-.78.8-2.07 0-2.86zM5.41 20L4 18.59l7.72-7.72 1.47 1.35L5.41 20z\"/>\n",
              "  </svg>\n",
              "      </button>\n",
              "      \n",
              "  <style>\n",
              "    .colab-df-container {\n",
              "      display:flex;\n",
              "      flex-wrap:wrap;\n",
              "      gap: 12px;\n",
              "    }\n",
              "\n",
              "    .colab-df-convert {\n",
              "      background-color: #E8F0FE;\n",
              "      border: none;\n",
              "      border-radius: 50%;\n",
              "      cursor: pointer;\n",
              "      display: none;\n",
              "      fill: #1967D2;\n",
              "      height: 32px;\n",
              "      padding: 0 0 0 0;\n",
              "      width: 32px;\n",
              "    }\n",
              "\n",
              "    .colab-df-convert:hover {\n",
              "      background-color: #E2EBFA;\n",
              "      box-shadow: 0px 1px 2px rgba(60, 64, 67, 0.3), 0px 1px 3px 1px rgba(60, 64, 67, 0.15);\n",
              "      fill: #174EA6;\n",
              "    }\n",
              "\n",
              "    [theme=dark] .colab-df-convert {\n",
              "      background-color: #3B4455;\n",
              "      fill: #D2E3FC;\n",
              "    }\n",
              "\n",
              "    [theme=dark] .colab-df-convert:hover {\n",
              "      background-color: #434B5C;\n",
              "      box-shadow: 0px 1px 3px 1px rgba(0, 0, 0, 0.15);\n",
              "      filter: drop-shadow(0px 1px 2px rgba(0, 0, 0, 0.3));\n",
              "      fill: #FFFFFF;\n",
              "    }\n",
              "  </style>\n",
              "\n",
              "      <script>\n",
              "        const buttonEl =\n",
              "          document.querySelector('#df-c90768b7-1311-42df-8f5c-e36812cde580 button.colab-df-convert');\n",
              "        buttonEl.style.display =\n",
              "          google.colab.kernel.accessAllowed ? 'block' : 'none';\n",
              "\n",
              "        async function convertToInteractive(key) {\n",
              "          const element = document.querySelector('#df-c90768b7-1311-42df-8f5c-e36812cde580');\n",
              "          const dataTable =\n",
              "            await google.colab.kernel.invokeFunction('convertToInteractive',\n",
              "                                                     [key], {});\n",
              "          if (!dataTable) return;\n",
              "\n",
              "          const docLinkHtml = 'Like what you see? Visit the ' +\n",
              "            '<a target=\"_blank\" href=https://colab.research.google.com/notebooks/data_table.ipynb>data table notebook</a>'\n",
              "            + ' to learn more about interactive tables.';\n",
              "          element.innerHTML = '';\n",
              "          dataTable['output_type'] = 'display_data';\n",
              "          await google.colab.output.renderOutput(dataTable, element);\n",
              "          const docLink = document.createElement('div');\n",
              "          docLink.innerHTML = docLinkHtml;\n",
              "          element.appendChild(docLink);\n",
              "        }\n",
              "      </script>\n",
              "    </div>\n",
              "  </div>\n",
              "  "
            ],
            "text/plain": [
              "            fat  calories    protein     rating    sodium\n",
              "count  1.93e+05  1.93e+05  192780.00  192780.00  1.93e+05\n",
              "mean   3.84e+02  7.00e+03     115.12       3.82  6.77e+03\n",
              "std    2.11e+04  3.72e+05    4281.95       1.21  3.44e+05\n",
              "min    0.00e+00  0.00e+00       0.00       0.00  0.00e+00\n",
              "25%    8.00e+00  2.00e+02       3.00       3.75  7.80e+01\n",
              "50%    1.70e+01  3.31e+02       8.00       4.38  2.78e+02\n",
              "75%    3.20e+01  5.72e+02      24.00       4.38  6.77e+02\n",
              "max    1.72e+06  3.01e+07  236489.00       5.00  2.77e+07"
            ]
          },
          "metadata": {},
          "execution_count": 50
        }
      ]
    },
    {
      "cell_type": "code",
      "source": [
        "pd.set_option(\"display.max_rows\", 99999)\n",
        "pd.set_option(\"display.precision\", 2)"
      ],
      "metadata": {
        "id": "9BOwQSpCFO9l"
      },
      "execution_count": 53,
      "outputs": []
    },
    {
      "cell_type": "code",
      "source": [
        "pd.reset_option(\"^display\")"
      ],
      "metadata": {
        "id": "CDSG2XyUGzHh"
      },
      "execution_count": 57,
      "outputs": []
    },
    {
      "cell_type": "markdown",
      "source": [
        "df_teste.isnull().sum() #avaliação da quantidade de nulos por coluna"
      ],
      "metadata": {
        "id": "7meLfCg-wcVY"
      }
    },
    {
      "cell_type": "code",
      "source": [
        "df_receita.describe()"
      ],
      "metadata": {
        "id": "gjOkN9Fll2hk",
        "colab": {
          "base_uri": "https://localhost:8080/",
          "height": 300
        },
        "outputId": "5d2994b0-656e-42fd-ae93-35333398290f"
      },
      "execution_count": 58,
      "outputs": [
        {
          "output_type": "execute_result",
          "data": {
            "text/html": [
              "\n",
              "  <div id=\"df-bbfca59a-30b4-4d9f-8db0-a38f7b9b6d0d\">\n",
              "    <div class=\"colab-df-container\">\n",
              "      <div>\n",
              "<style scoped>\n",
              "    .dataframe tbody tr th:only-of-type {\n",
              "        vertical-align: middle;\n",
              "    }\n",
              "\n",
              "    .dataframe tbody tr th {\n",
              "        vertical-align: top;\n",
              "    }\n",
              "\n",
              "    .dataframe thead th {\n",
              "        text-align: right;\n",
              "    }\n",
              "</style>\n",
              "<table border=\"1\" class=\"dataframe\">\n",
              "  <thead>\n",
              "    <tr style=\"text-align: right;\">\n",
              "      <th></th>\n",
              "      <th>fat</th>\n",
              "      <th>calories</th>\n",
              "      <th>protein</th>\n",
              "      <th>rating</th>\n",
              "      <th>sodium</th>\n",
              "    </tr>\n",
              "  </thead>\n",
              "  <tbody>\n",
              "    <tr>\n",
              "      <th>count</th>\n",
              "      <td>1.927800e+05</td>\n",
              "      <td>1.927800e+05</td>\n",
              "      <td>192780.000000</td>\n",
              "      <td>192780.000000</td>\n",
              "      <td>1.927800e+05</td>\n",
              "    </tr>\n",
              "    <tr>\n",
              "      <th>mean</th>\n",
              "      <td>3.842324e+02</td>\n",
              "      <td>6.999750e+03</td>\n",
              "      <td>115.120573</td>\n",
              "      <td>3.819636</td>\n",
              "      <td>6.765117e+03</td>\n",
              "    </tr>\n",
              "    <tr>\n",
              "      <th>std</th>\n",
              "      <td>2.113763e+04</td>\n",
              "      <td>3.716581e+05</td>\n",
              "      <td>4281.952010</td>\n",
              "      <td>1.209055</td>\n",
              "      <td>3.440233e+05</td>\n",
              "    </tr>\n",
              "    <tr>\n",
              "      <th>min</th>\n",
              "      <td>0.000000e+00</td>\n",
              "      <td>0.000000e+00</td>\n",
              "      <td>0.000000</td>\n",
              "      <td>0.000000</td>\n",
              "      <td>0.000000e+00</td>\n",
              "    </tr>\n",
              "    <tr>\n",
              "      <th>25%</th>\n",
              "      <td>8.000000e+00</td>\n",
              "      <td>2.000000e+02</td>\n",
              "      <td>3.000000</td>\n",
              "      <td>3.750000</td>\n",
              "      <td>7.800000e+01</td>\n",
              "    </tr>\n",
              "    <tr>\n",
              "      <th>50%</th>\n",
              "      <td>1.700000e+01</td>\n",
              "      <td>3.310000e+02</td>\n",
              "      <td>8.000000</td>\n",
              "      <td>4.375000</td>\n",
              "      <td>2.780000e+02</td>\n",
              "    </tr>\n",
              "    <tr>\n",
              "      <th>75%</th>\n",
              "      <td>3.200000e+01</td>\n",
              "      <td>5.720000e+02</td>\n",
              "      <td>24.000000</td>\n",
              "      <td>4.375000</td>\n",
              "      <td>6.770000e+02</td>\n",
              "    </tr>\n",
              "    <tr>\n",
              "      <th>max</th>\n",
              "      <td>1.722763e+06</td>\n",
              "      <td>3.011122e+07</td>\n",
              "      <td>236489.000000</td>\n",
              "      <td>5.000000</td>\n",
              "      <td>2.767511e+07</td>\n",
              "    </tr>\n",
              "  </tbody>\n",
              "</table>\n",
              "</div>\n",
              "      <button class=\"colab-df-convert\" onclick=\"convertToInteractive('df-bbfca59a-30b4-4d9f-8db0-a38f7b9b6d0d')\"\n",
              "              title=\"Convert this dataframe to an interactive table.\"\n",
              "              style=\"display:none;\">\n",
              "        \n",
              "  <svg xmlns=\"http://www.w3.org/2000/svg\" height=\"24px\"viewBox=\"0 0 24 24\"\n",
              "       width=\"24px\">\n",
              "    <path d=\"M0 0h24v24H0V0z\" fill=\"none\"/>\n",
              "    <path d=\"M18.56 5.44l.94 2.06.94-2.06 2.06-.94-2.06-.94-.94-2.06-.94 2.06-2.06.94zm-11 1L8.5 8.5l.94-2.06 2.06-.94-2.06-.94L8.5 2.5l-.94 2.06-2.06.94zm10 10l.94 2.06.94-2.06 2.06-.94-2.06-.94-.94-2.06-.94 2.06-2.06.94z\"/><path d=\"M17.41 7.96l-1.37-1.37c-.4-.4-.92-.59-1.43-.59-.52 0-1.04.2-1.43.59L10.3 9.45l-7.72 7.72c-.78.78-.78 2.05 0 2.83L4 21.41c.39.39.9.59 1.41.59.51 0 1.02-.2 1.41-.59l7.78-7.78 2.81-2.81c.8-.78.8-2.07 0-2.86zM5.41 20L4 18.59l7.72-7.72 1.47 1.35L5.41 20z\"/>\n",
              "  </svg>\n",
              "      </button>\n",
              "      \n",
              "  <style>\n",
              "    .colab-df-container {\n",
              "      display:flex;\n",
              "      flex-wrap:wrap;\n",
              "      gap: 12px;\n",
              "    }\n",
              "\n",
              "    .colab-df-convert {\n",
              "      background-color: #E8F0FE;\n",
              "      border: none;\n",
              "      border-radius: 50%;\n",
              "      cursor: pointer;\n",
              "      display: none;\n",
              "      fill: #1967D2;\n",
              "      height: 32px;\n",
              "      padding: 0 0 0 0;\n",
              "      width: 32px;\n",
              "    }\n",
              "\n",
              "    .colab-df-convert:hover {\n",
              "      background-color: #E2EBFA;\n",
              "      box-shadow: 0px 1px 2px rgba(60, 64, 67, 0.3), 0px 1px 3px 1px rgba(60, 64, 67, 0.15);\n",
              "      fill: #174EA6;\n",
              "    }\n",
              "\n",
              "    [theme=dark] .colab-df-convert {\n",
              "      background-color: #3B4455;\n",
              "      fill: #D2E3FC;\n",
              "    }\n",
              "\n",
              "    [theme=dark] .colab-df-convert:hover {\n",
              "      background-color: #434B5C;\n",
              "      box-shadow: 0px 1px 3px 1px rgba(0, 0, 0, 0.15);\n",
              "      filter: drop-shadow(0px 1px 2px rgba(0, 0, 0, 0.3));\n",
              "      fill: #FFFFFF;\n",
              "    }\n",
              "  </style>\n",
              "\n",
              "      <script>\n",
              "        const buttonEl =\n",
              "          document.querySelector('#df-bbfca59a-30b4-4d9f-8db0-a38f7b9b6d0d button.colab-df-convert');\n",
              "        buttonEl.style.display =\n",
              "          google.colab.kernel.accessAllowed ? 'block' : 'none';\n",
              "\n",
              "        async function convertToInteractive(key) {\n",
              "          const element = document.querySelector('#df-bbfca59a-30b4-4d9f-8db0-a38f7b9b6d0d');\n",
              "          const dataTable =\n",
              "            await google.colab.kernel.invokeFunction('convertToInteractive',\n",
              "                                                     [key], {});\n",
              "          if (!dataTable) return;\n",
              "\n",
              "          const docLinkHtml = 'Like what you see? Visit the ' +\n",
              "            '<a target=\"_blank\" href=https://colab.research.google.com/notebooks/data_table.ipynb>data table notebook</a>'\n",
              "            + ' to learn more about interactive tables.';\n",
              "          element.innerHTML = '';\n",
              "          dataTable['output_type'] = 'display_data';\n",
              "          await google.colab.output.renderOutput(dataTable, element);\n",
              "          const docLink = document.createElement('div');\n",
              "          docLink.innerHTML = docLinkHtml;\n",
              "          element.appendChild(docLink);\n",
              "        }\n",
              "      </script>\n",
              "    </div>\n",
              "  </div>\n",
              "  "
            ],
            "text/plain": [
              "                fat      calories        protein         rating        sodium\n",
              "count  1.927800e+05  1.927800e+05  192780.000000  192780.000000  1.927800e+05\n",
              "mean   3.842324e+02  6.999750e+03     115.120573       3.819636  6.765117e+03\n",
              "std    2.113763e+04  3.716581e+05    4281.952010       1.209055  3.440233e+05\n",
              "min    0.000000e+00  0.000000e+00       0.000000       0.000000  0.000000e+00\n",
              "25%    8.000000e+00  2.000000e+02       3.000000       3.750000  7.800000e+01\n",
              "50%    1.700000e+01  3.310000e+02       8.000000       4.375000  2.780000e+02\n",
              "75%    3.200000e+01  5.720000e+02      24.000000       4.375000  6.770000e+02\n",
              "max    1.722763e+06  3.011122e+07  236489.000000       5.000000  2.767511e+07"
            ]
          },
          "metadata": {},
          "execution_count": 58
        }
      ]
    },
    {
      "cell_type": "markdown",
      "source": [
        ""
      ],
      "metadata": {
        "id": "qnQvCsOLl20Z"
      }
    }
  ]
}